{
 "cells": [
  {
   "cell_type": "code",
   "execution_count": 547,
   "id": "6a0d67d0",
   "metadata": {},
   "outputs": [],
   "source": [
    "from keras.datasets import mnist\n",
    "\n",
    "import numpy as np\n",
    "from matplotlib import pyplot as plt\n",
    "from sklearn.mixture import GaussianMixture\n",
    "from sklearn.metrics import mean_squared_error\n",
    "from PIL import Image\n",
    "import math\n",
    "import copy\n",
    "from scipy.stats import multivariate_normal\n",
    "from numpy import linalg as la"
   ]
  },
  {
   "cell_type": "code",
   "execution_count": 11,
   "id": "00dc4d21",
   "metadata": {},
   "outputs": [],
   "source": [
    "(train_X, train_y), (test_X, test_y) = mnist.load_data()"
   ]
  },
  {
   "cell_type": "code",
   "execution_count": 660,
   "id": "9d692dfd",
   "metadata": {},
   "outputs": [],
   "source": [
    "l = train_X.shape[1]\n",
    "w = train_X.shape[2]\n",
    "\n",
    "m = 8\n",
    "\n",
    "\n",
    "patches = []\n",
    "\n",
    "for n in range(100):\n",
    "    for i in range(l-m+1):\n",
    "        for j in range(w-m+1):\n",
    "            a = (train_X[n][i:i+m,j:j+m]).flatten(order='F')\n",
    "            patches.append(a)"
   ]
  },
  {
   "cell_type": "code",
   "execution_count": 661,
   "id": "4c8d06ee",
   "metadata": {},
   "outputs": [],
   "source": [
    "images_val = []\n",
    "for i in range(300):\n",
    "    filename = 'C:/Users/smnas/Dataset/Dataset/MNIST-m=8/MNIST/original/' + str(i+1) + '.png'\n",
    "    try:\n",
    "        with open(filename, 'r') as file:\n",
    "            img = Image.open(filename)\n",
    "            arr = np.array(img)\n",
    "            images_val.append(arr)\n",
    "    except OSError as e:\n",
    "        None"
   ]
  },
  {
   "cell_type": "code",
   "execution_count": 662,
   "id": "fafdbcf8",
   "metadata": {},
   "outputs": [],
   "source": [
    "patches_val = []\n",
    "\n",
    "for n in range(len(images_val)):\n",
    "    for i in range(l-m+1):\n",
    "        for j in range(w-m+1):\n",
    "            a = (images_val[n][i:i+m,j:j+m]).flatten(order='F')\n",
    "            patches_val.append(a)"
   ]
  },
  {
   "cell_type": "code",
   "execution_count": 321,
   "id": "401bb253",
   "metadata": {},
   "outputs": [
    {
     "name": "stdout",
     "output_type": "stream",
     "text": [
      "-295.96163823041815\n"
     ]
    }
   ],
   "source": [
    "gmm_model = GaussianMixture(n_components=350, random_state=0).fit(patches)\n",
    "acc = gmm_model.score(patches_val)\n",
    "print(acc)"
   ]
  },
  {
   "cell_type": "code",
   "execution_count": 322,
   "id": "ba825215",
   "metadata": {},
   "outputs": [
    {
     "name": "stdout",
     "output_type": "stream",
     "text": [
      "-5.240919655713112\n"
     ]
    }
   ],
   "source": [
    "gmm_model = GaussianMixture(n_components=50, random_state=0).fit(patches)\n",
    "acc = gmm_model.score(patches_val)\n",
    "print(acc)"
   ]
  },
  {
   "cell_type": "code",
   "execution_count": 323,
   "id": "756d4ee7",
   "metadata": {},
   "outputs": [
    {
     "name": "stdout",
     "output_type": "stream",
     "text": [
      "12.204929273790492\n"
     ]
    }
   ],
   "source": [
    "gmm_model = GaussianMixture(n_components=100, random_state=0).fit(patches)\n",
    "acc = gmm_model.score(patches_val)\n",
    "print(acc)"
   ]
  },
  {
   "cell_type": "code",
   "execution_count": 324,
   "id": "79d8792c",
   "metadata": {},
   "outputs": [
    {
     "name": "stdout",
     "output_type": "stream",
     "text": [
      "8.998536027822079\n"
     ]
    }
   ],
   "source": [
    "gmm_model = GaussianMixture(n_components=150, random_state=0).fit(patches)\n",
    "acc = gmm_model.score(patches_val)\n",
    "print(acc)"
   ]
  },
  {
   "cell_type": "code",
   "execution_count": 341,
   "id": "445d531e",
   "metadata": {},
   "outputs": [
    {
     "name": "stdout",
     "output_type": "stream",
     "text": [
      "10.313081021882722\n",
      "13.162665238999706\n",
      "12.720755795815244\n",
      "11.184012969940252\n",
      "120\n"
     ]
    }
   ],
   "source": [
    "k = np.arange(110, 150, 10)\n",
    "m = k.shape[0]\n",
    "accuracy = []\n",
    "for i in range(m):\n",
    "    gmm_model = GaussianMixture(n_components=k[i], random_state=0).fit(patches)\n",
    "    acc = gmm_model.score(patches_val)\n",
    "    print(acc)\n",
    "    accuracy.append(acc)\n",
    "\n",
    "mx = max(accuracy)\n",
    "l=0\n",
    "for i in range(m):\n",
    "    if accuracy[i]==mx:\n",
    "        if l==0:\n",
    "            kf = k[i]\n",
    "            l=1\n",
    "print(kf)"
   ]
  },
  {
   "cell_type": "code",
   "execution_count": 342,
   "id": "3a01b0d8",
   "metadata": {},
   "outputs": [
    {
     "name": "stdout",
     "output_type": "stream",
     "text": [
      "7.0680859197339805\n",
      "7.010268450744814\n",
      "10.21861488727559\n",
      "14.716473353305249\n",
      "90\n"
     ]
    }
   ],
   "source": [
    "k = np.arange(60, 100, 10)\n",
    "m = k.shape[0]\n",
    "accuracy = []\n",
    "for i in range(m):\n",
    "    gmm_model = GaussianMixture(n_components=k[i], random_state=0).fit(patches)\n",
    "    acc = gmm_model.score(patches_val)\n",
    "    print(acc)\n",
    "    accuracy.append(acc)\n",
    "\n",
    "mx = max(accuracy)\n",
    "l=0\n",
    "for i in range(m):\n",
    "    if accuracy[i]==mx:\n",
    "        if l==0:\n",
    "            kf = k[i]\n",
    "            l=1\n",
    "print(kf)"
   ]
  },
  {
   "cell_type": "code",
   "execution_count": 343,
   "id": "09b281c3",
   "metadata": {},
   "outputs": [],
   "source": [
    "#بهترین مقدار کا را بر اساس اعداد قبلی همان 90 می شود که آخرین مدل هم با همین مقدار ترین شده. پس از همین مدل استفاده می کنیم"
   ]
  },
  {
   "cell_type": "code",
   "execution_count": 58,
   "id": "023c04b3",
   "metadata": {},
   "outputs": [
    {
     "name": "stdout",
     "output_type": "stream",
     "text": [
      "(64, 64)\n"
     ]
    }
   ],
   "source": [
    "w_8 = np.load(\"C:/Users/smnas/Dataset/Dataset/MNIST-m=8/MNIST/W.npy\")\n",
    "print(w_8.shape)"
   ]
  },
  {
   "cell_type": "code",
   "execution_count": 663,
   "id": "4f71fdfd",
   "metadata": {},
   "outputs": [],
   "source": [
    "images_val_cor = []\n",
    "for i in range(300):\n",
    "    filename = 'C:/Users/smnas/Dataset/Dataset/MNIST-m=8/MNIST/corrupted/' + str(i+1) + '.png'\n",
    "    try:\n",
    "        with open(filename, 'r') as file:\n",
    "            img = Image.open(filename)\n",
    "            arr = np.array(img)\n",
    "            images_val_cor.append(arr)\n",
    "    except OSError as e:\n",
    "        None"
   ]
  },
  {
   "cell_type": "code",
   "execution_count": 664,
   "id": "a2931733",
   "metadata": {},
   "outputs": [],
   "source": [
    "l = train_X.shape[1]\n",
    "w = train_X.shape[2]\n",
    "\n",
    "m = 8\n",
    "\n",
    "patches_val_cor = []\n",
    "\n",
    "for n in range(len(images_val_cor)):\n",
    "    for i in range(l-m+1):\n",
    "        for j in range(w-m+1):\n",
    "            a = (images_val_cor[n][i:i+m,j:j+m]).flatten(order='F')\n",
    "            patches_val_cor.append(a)"
   ]
  },
  {
   "cell_type": "code",
   "execution_count": 143,
   "id": "4d8dbcc6",
   "metadata": {},
   "outputs": [
    {
     "name": "stdout",
     "output_type": "stream",
     "text": [
      "5\n"
     ]
    }
   ],
   "source": [
    "best_sigma = None\n",
    "min_error = np.inf\n",
    "sigmas = [5, 10, 20, 30, 50]\n",
    "\n",
    "for sigma in sigmas:\n",
    "    cross_val = []\n",
    "    for i in range(len(patches_val)):\n",
    "        P_patch = np.matmul(w_8, patches_val[i]) + sigma * np.random.randn(*patches_val[i].shape)\n",
    "        error = mean_squared_error(patches_val_cor[i], P_patch)\n",
    "        cross_val.append(error)\n",
    "    avg_cross_val = np.mean(cross_val)\n",
    "    if avg_cross_val < min_error:\n",
    "        min_error = avg_cross_val\n",
    "        best_sigma = sigma\n",
    "\n",
    "print(best_sigma)"
   ]
  },
  {
   "cell_type": "code",
   "execution_count": 665,
   "id": "07b62a7c",
   "metadata": {},
   "outputs": [],
   "source": [
    "#اما بر اساس نتایجی که از عکس ها می گیریم، اگر یک بار با بست سیگما 5 و یک بار هم با بست سیگما 50 کد را اجرا کنیم، مقدار 50 نتیجه بهتری می دهد\n",
    "#پس ما مقدار بست سیگما را 50 می گذاریم(در نتایج صرفا با مقدار 50 ران شده است. اما با مقدار 5 هم قبل از آن تست شده و نتیجه حاصله بدتر بوده است)\n",
    "best_sigma = 50"
   ]
  },
  {
   "cell_type": "code",
   "execution_count": 666,
   "id": "7554ce0b",
   "metadata": {},
   "outputs": [],
   "source": [
    "images_test_cor = []\n",
    "for i in range(300):\n",
    "    filename = 'C:/Users/smnas/dataset-test/MNIST-m=8/corrupted/' + str(i+1) + '.png'\n",
    "    try:\n",
    "        with open(filename, 'r') as file:\n",
    "            img = Image.open(filename)\n",
    "            arr = np.array(img)\n",
    "            images_test_cor.append(arr)\n",
    "    except OSError as e:\n",
    "        None"
   ]
  },
  {
   "cell_type": "code",
   "execution_count": 667,
   "id": "4f085e58",
   "metadata": {},
   "outputs": [],
   "source": [
    "patches_test_cor = []\n",
    "\n",
    "for n in range(len(images_test_cor)):\n",
    "    for i in range(l-m+1):\n",
    "        for j in range(w-m+1):\n",
    "            a = (images_test_cor[n][i:i+m,j:j+m]).flatten(order='F')\n",
    "            patches_test_cor.append(a)"
   ]
  },
  {
   "cell_type": "code",
   "execution_count": 668,
   "id": "0f61f426",
   "metadata": {},
   "outputs": [],
   "source": [
    "#پیدا کردن بزرگترین کامپوننت gmm\n",
    "#best_kn\n",
    "probs = gmm_model.predict_proba(patches_test_cor)[:, :]\n",
    "means = probs.mean(axis=0)\n",
    "best_kn = np.argmax(means,axis=0)"
   ]
  },
  {
   "cell_type": "code",
   "execution_count": 635,
   "id": "852cc13a",
   "metadata": {},
   "outputs": [
    {
     "name": "stdout",
     "output_type": "stream",
     "text": [
      "0\n",
      "1\n",
      "2\n",
      "3\n",
      "4\n",
      "5\n",
      "6\n",
      "7\n",
      "8\n",
      "9\n",
      "10\n",
      "11\n",
      "12\n",
      "13\n",
      "14\n",
      "15\n",
      "16\n",
      "17\n",
      "18\n",
      "19\n",
      "15\n"
     ]
    }
   ],
   "source": [
    "#در واقع روش منطقی تر برای انتخاب بهترین کامپوننت، این تیکه کد است. که به ازای هر پچ احتمال این که از این توزیع جدید باشد را حساب می کند و \n",
    "# برای همه پچ ها میانگین گرفته و در نهایت کامپوننتی که بیشترین مقدار را میداد به عنوان بهترین کامپوننت انتخاب می کند. ولی از آنجا که اجرای این بخش\n",
    "# کد زمان زیادی برای اجرا می برد، در این بخش و سایر ام ها از تکه کد بالا استفاده شده که تقریبا جواب همین بخش را به ما می دهد. اما از این تکه کد\n",
    "# هم میتوان برای محاسبه بهترین کامپوننت استفاده کرد. \n",
    "''''\n",
    "m = 8\n",
    "prediction = []\n",
    "for n_k in range(gmm_model.weights_.shape[0]):\n",
    "    print(n_k)\n",
    "    E_Z = gmm_model.covariances_[n_k]\n",
    "    mu_Z = gmm_model.means_[n_k]\n",
    "    E_Y_Z = best_sigma*best_sigma*np.identity(m*m)\n",
    "    E_Z_Y = np.linalg.inv(np.linalg.inv(E_Z) + np.matmul(np.matmul(w_8.T, np.linalg.inv(E_Y_Z)),w_8))\n",
    "    E_Z_Y = (E_Z_Y + E_Z_Y.T) / 2\n",
    "    probs = []\n",
    "    for n in range(len(patches_test_cor[0:10000])):\n",
    "        mu_Z_Y = np.matmul(E_Z_Y,(np.matmul(np.matmul(w_8.T,np.linalg.inv(E_Y_Z)),patches_test_cor[n])+ np.matmul(np.linalg.inv(E_Z),mu_Z)))\n",
    "        y = multivariate_normal.pdf(patches_test_cor[n], mean=mu_Z_Y, cov=E_Z_Y, allow_singular=True)*gmm_model.weights_[n_k]\n",
    "        probs.append(y)\n",
    "    mean = sum(probs) / len(probs)\n",
    "    prediction.append(mean)\n",
    "best_kn = prediction.index(max(prediction))\n",
    "print(best_kn)\n",
    "''''''"
   ]
  },
  {
   "cell_type": "code",
   "execution_count": 669,
   "id": "e173ee89",
   "metadata": {},
   "outputs": [],
   "source": [
    "m = 8\n",
    "E_Z = gmm_model.covariances_[best_kn]\n",
    "mu_Z = gmm_model.means_[best_kn]\n",
    "E_Y_Z = best_sigma*best_sigma*np.identity(m*m)\n",
    "E_Z_Y = np.linalg.inv(np.linalg.inv(E_Z) + np.matmul(np.matmul(w_8.T, np.linalg.inv(E_Y_Z)),w_8))\n",
    "patches_test_cor_corrected = []\n",
    "for n in range(len(patches_test_cor)):\n",
    "    mu_Z_Y = np.matmul(E_Z_Y,(np.matmul(np.matmul(w_8.T,np.linalg.inv(E_Y_Z)),patches_test_cor[n])+ np.matmul(np.linalg.inv(E_Z),mu_Z)))\n",
    "    patches_test_cor_corrected.append(mu_Z_Y)"
   ]
  },
  {
   "cell_type": "code",
   "execution_count": 670,
   "id": "f517ea82",
   "metadata": {},
   "outputs": [],
   "source": [
    "patches_matrix_test_cor_corrected = []\n",
    "\n",
    "for n in range(len(patches_test_cor_corrected)):\n",
    "    reshaped_arr = patches_test_cor_corrected[n].reshape((m, m),order='F')\n",
    "    patches_matrix_test_cor_corrected.append(reshaped_arr)"
   ]
  },
  {
   "cell_type": "code",
   "execution_count": 671,
   "id": "b9622660",
   "metadata": {},
   "outputs": [],
   "source": [
    "images_test_denoised = []\n",
    "\n",
    "l = train_X.shape[1]\n",
    "w = train_X.shape[2]\n",
    "\n",
    "m = 8\n",
    "\n",
    "num_of_patches_per_img = (l-m+1)*(w-m+1)\n",
    "num_of_pixels = np.zeros([28,28])\n",
    "\n",
    "for n in range(len(images_test_cor)):\n",
    "    images_test_denoised.append(np.zeros([28,28]))\n",
    "    for p in range(n*num_of_patches_per_img, (n+1)*num_of_patches_per_img):\n",
    "        p_real = p % num_of_patches_per_img\n",
    "        i_real = math.floor(p_real/(w-m+1))\n",
    "        j_real = p_real %(l-m+1)\n",
    "        for i in range(m):\n",
    "            for j in range(m):\n",
    "                images_test_denoised[n][i_real + i][j_real + j] += patches_matrix_test_cor_corrected[p][i][j]\n",
    "                if(n==0):\n",
    "                    num_of_pixels[i_real + i][j_real + j] += 1\n",
    "    for i in range(28):\n",
    "        for j in range(28):\n",
    "            images_test_denoised[n][i][j] = images_test_denoised[n][i][j]/num_of_pixels[i][j]"
   ]
  },
  {
   "cell_type": "code",
   "execution_count": 672,
   "id": "95857f4d",
   "metadata": {},
   "outputs": [
    {
     "data": {
      "image/png": "[encoded data removed]",
      "text/plain": [
       "<Figure size 720x720 with 10 Axes>"
      ]
     },
     "metadata": {
      "needs_background": "light"
     },
     "output_type": "display_data"
    }
   ],
   "source": [
    "fig, axs = plt.subplots(5, 2, figsize=(10, 10))\n",
    "\n",
    "for i in range(5):\n",
    "    n1 = np.random.randint(len(images_test_cor))\n",
    "    axs[i, 0].imshow(images_test_cor[n1], cmap='gray')\n",
    "    axs[i, 0].set_title('noisy image')\n",
    "    axs[i, 0].axis('off')\n",
    "    axs[i, 1].imshow(images_test_denoised[n1], cmap='gray')\n",
    "    axs[i, 1].set_title('denoised image')\n",
    "    axs[i, 1].axis('off')\n",
    "plt.tight_layout()\n",
    "plt.show()"
   ]
  },
  {
   "cell_type": "markdown",
   "id": "753796fb",
   "metadata": {},
   "source": [
    "# M = 4"
   ]
  },
  {
   "cell_type": "code",
   "execution_count": 673,
   "id": "12cd378f",
   "metadata": {},
   "outputs": [],
   "source": [
    "l = train_X.shape[1]\n",
    "w = train_X.shape[2]\n",
    "\n",
    "m = 4\n",
    "\n",
    "\n",
    "patches = []\n",
    "\n",
    "for n in range(100):\n",
    "    for i in range(l-m+1):\n",
    "        for j in range(w-m+1):\n",
    "            a = (train_X[n][i:i+m,j:j+m]).flatten(order='F')\n",
    "            patches.append(a)"
   ]
  },
  {
   "cell_type": "code",
   "execution_count": 674,
   "id": "48d8281e",
   "metadata": {},
   "outputs": [],
   "source": [
    "images_val = []\n",
    "for i in range(300):\n",
    "    filename = 'C:/Users/smnas/Dataset/Dataset/MNIST-m=4/MNIST/original/' + str(i+1) + '.png'\n",
    "    try:\n",
    "        with open(filename, 'r') as file:\n",
    "            img = Image.open(filename)\n",
    "            arr = np.array(img)\n",
    "            images_val.append(arr)\n",
    "    except OSError as e:\n",
    "        None"
   ]
  },
  {
   "cell_type": "code",
   "execution_count": 675,
   "id": "d4930a97",
   "metadata": {},
   "outputs": [],
   "source": [
    "patches_val = []\n",
    "\n",
    "for n in range(len(images_val)):\n",
    "    for i in range(l-m+1):\n",
    "        for j in range(w-m+1):\n",
    "            a = (images_val[n][i:i+m,j:j+m]).flatten(order='F')\n",
    "            patches_val.append(a)"
   ]
  },
  {
   "cell_type": "code",
   "execution_count": 359,
   "id": "302387e1",
   "metadata": {},
   "outputs": [
    {
     "name": "stdout",
     "output_type": "stream",
     "text": [
      "42.35878429022716\n"
     ]
    }
   ],
   "source": [
    "gmm_model_4 = GaussianMixture(n_components=50, random_state=0).fit(patches)\n",
    "acc = gmm_model_4.score(patches_val)\n",
    "print(acc)"
   ]
  },
  {
   "cell_type": "code",
   "execution_count": 360,
   "id": "226a4e24",
   "metadata": {},
   "outputs": [
    {
     "name": "stdout",
     "output_type": "stream",
     "text": [
      "44.98101399002821\n"
     ]
    }
   ],
   "source": [
    "gmm_model_4 = GaussianMixture(n_components=100, random_state=0).fit(patches)\n",
    "acc = gmm_model_4.score(patches_val)\n",
    "print(acc)"
   ]
  },
  {
   "cell_type": "code",
   "execution_count": 361,
   "id": "2766ab0c",
   "metadata": {},
   "outputs": [
    {
     "name": "stdout",
     "output_type": "stream",
     "text": [
      "45.85973048340663\n"
     ]
    }
   ],
   "source": [
    "gmm_model_4 = GaussianMixture(n_components=150, random_state=0).fit(patches)\n",
    "acc = gmm_model_4.score(patches_val)\n",
    "print(acc)"
   ]
  },
  {
   "cell_type": "code",
   "execution_count": 362,
   "id": "2fb0dc99",
   "metadata": {},
   "outputs": [
    {
     "name": "stdout",
     "output_type": "stream",
     "text": [
      "47.27977417186466\n"
     ]
    }
   ],
   "source": [
    "gmm_model_4 = GaussianMixture(n_components=200, random_state=0).fit(patches)\n",
    "acc = gmm_model_4.score(patches_val)\n",
    "print(acc)"
   ]
  },
  {
   "cell_type": "code",
   "execution_count": 363,
   "id": "ed401f33",
   "metadata": {},
   "outputs": [
    {
     "name": "stdout",
     "output_type": "stream",
     "text": [
      "46.60569843396699\n"
     ]
    }
   ],
   "source": [
    "gmm_model_4 = GaussianMixture(n_components=250, random_state=0).fit(patches)\n",
    "acc = gmm_model_4.score(patches_val)\n",
    "print(acc)"
   ]
  },
  {
   "cell_type": "code",
   "execution_count": 364,
   "id": "da5c9d18",
   "metadata": {},
   "outputs": [
    {
     "name": "stdout",
     "output_type": "stream",
     "text": [
      "46.43795944179755\n"
     ]
    }
   ],
   "source": [
    "gmm_model_4 = GaussianMixture(n_components=300, random_state=0).fit(patches)\n",
    "acc = gmm_model_4.score(patches_val)\n",
    "print(acc)"
   ]
  },
  {
   "cell_type": "code",
   "execution_count": 365,
   "id": "3358d25c",
   "metadata": {},
   "outputs": [
    {
     "name": "stdout",
     "output_type": "stream",
     "text": [
      "46.686772312929456\n",
      "46.90588462259274\n",
      "47.218302145698814\n",
      "46.97493571728751\n",
      "230\n"
     ]
    }
   ],
   "source": [
    "k = np.arange(210, 250, 10)\n",
    "m = k.shape[0]\n",
    "accuracy = []\n",
    "for i in range(m):\n",
    "    gmm_model_4 = GaussianMixture(n_components=k[i], random_state=0).fit(patches)\n",
    "    acc = gmm_model_4.score(patches_val)\n",
    "    print(acc)\n",
    "    accuracy.append(acc)\n",
    "\n",
    "mx = max(accuracy)\n",
    "l=0\n",
    "for i in range(m):\n",
    "    if accuracy[i]==mx:\n",
    "        if l==0:\n",
    "            kf = k[i]\n",
    "            l=1\n",
    "print(kf)"
   ]
  },
  {
   "cell_type": "code",
   "execution_count": 366,
   "id": "a66bf3c4",
   "metadata": {},
   "outputs": [
    {
     "name": "stdout",
     "output_type": "stream",
     "text": [
      "46.42824501147465\n",
      "46.79871050991211\n",
      "46.340500763678754\n",
      "46.733021463548084\n",
      "170\n"
     ]
    }
   ],
   "source": [
    "k = np.arange(160, 200, 10)\n",
    "m = k.shape[0]\n",
    "accuracy = []\n",
    "for i in range(m):\n",
    "    gmm_model_4 = GaussianMixture(n_components=k[i], random_state=0).fit(patches)\n",
    "    acc = gmm_model_4.score(patches_val)\n",
    "    print(acc)\n",
    "    accuracy.append(acc)\n",
    "\n",
    "mx = max(accuracy)\n",
    "l=0\n",
    "for i in range(m):\n",
    "    if accuracy[i]==mx:\n",
    "        if l==0:\n",
    "            kf = k[i]\n",
    "            l=1\n",
    "print(kf)"
   ]
  },
  {
   "cell_type": "code",
   "execution_count": 367,
   "id": "ad2802a1",
   "metadata": {},
   "outputs": [],
   "source": [
    "#بهترین مقدار کا را بر اساس اعداد قبلی 250 می شود پس یک بار مدل را با این عدد ران می کنیم\n",
    "gmm_model_4 = GaussianMixture(n_components=200, random_state=0).fit(patches)"
   ]
  },
  {
   "cell_type": "code",
   "execution_count": 369,
   "id": "86a5e3ad",
   "metadata": {},
   "outputs": [
    {
     "name": "stdout",
     "output_type": "stream",
     "text": [
      "(16, 16)\n"
     ]
    }
   ],
   "source": [
    "w_4 = np.load(\"C:/Users/smnas/Dataset/Dataset/MNIST-m=4/MNIST/W.npy\")\n",
    "print(w_4.shape)"
   ]
  },
  {
   "cell_type": "code",
   "execution_count": 676,
   "id": "56eaf3fe",
   "metadata": {},
   "outputs": [],
   "source": [
    "images_val_cor = []\n",
    "for i in range(300):\n",
    "    filename = 'C:/Users/smnas/Dataset/Dataset/MNIST-m=4/MNIST/corrupted/' + str(i+1) + '.png'\n",
    "    try:\n",
    "        with open(filename, 'r') as file:\n",
    "            img = Image.open(filename)\n",
    "            arr = np.array(img)\n",
    "            images_val_cor.append(arr)\n",
    "    except OSError as e:\n",
    "        None"
   ]
  },
  {
   "cell_type": "code",
   "execution_count": 677,
   "id": "914cddd3",
   "metadata": {},
   "outputs": [],
   "source": [
    "l = train_X.shape[1]\n",
    "w = train_X.shape[2]\n",
    "\n",
    "m = 4\n",
    "\n",
    "patches_val_cor = []\n",
    "\n",
    "for n in range(len(images_val_cor)):\n",
    "    for i in range(l-m+1):\n",
    "        for j in range(w-m+1):\n",
    "            a = (images_val_cor[n][i:i+m,j:j+m]).flatten(order='F')\n",
    "            patches_val_cor.append(a)"
   ]
  },
  {
   "cell_type": "code",
   "execution_count": 372,
   "id": "a7807b5c",
   "metadata": {},
   "outputs": [
    {
     "name": "stdout",
     "output_type": "stream",
     "text": [
      "5\n"
     ]
    }
   ],
   "source": [
    "best_sigma_4 = None\n",
    "min_error = np.inf\n",
    "sigmas = [5, 10, 20, 30, 50]\n",
    "\n",
    "for sigma in sigmas:\n",
    "    cross_val = []\n",
    "    for i in range(len(patches_val)):\n",
    "        P_patch = np.matmul(w_4, patches_val[i]) + sigma * np.random.randn(*patches_val[i].shape)\n",
    "        error = mean_squared_error(patches_val_cor[i], P_patch)\n",
    "        cross_val.append(error)\n",
    "    avg_cross_val = np.mean(cross_val)\n",
    "    if avg_cross_val < min_error:\n",
    "        min_error = avg_cross_val\n",
    "        best_sigma_4 = sigma\n",
    "\n",
    "print(best_sigma_4)"
   ]
  },
  {
   "cell_type": "code",
   "execution_count": 678,
   "id": "68edb820",
   "metadata": {},
   "outputs": [],
   "source": [
    "#اما بر اساس نتایجی که از عکس ها می گیریم، اگر یک بار با بست سیگما 5 و یک بار هم با بست سیگما 50 کد را اجرا کنیم، مقدار 50 نتیجه بهتری می دهد\n",
    "#پس ما مقدار بست سیگما را 50 می گذاریم(در نتایج صرفا با مقدار 50 ران شده است. اما با مقدار 5 هم قبل از آن تست شده و نتیجه حاصله بدتر بوده است)\n",
    "best_sigma_4 = 50"
   ]
  },
  {
   "cell_type": "code",
   "execution_count": 679,
   "id": "c1b9309a",
   "metadata": {},
   "outputs": [],
   "source": [
    "images_test_cor_4 = []\n",
    "for i in range(300):\n",
    "    filename = 'C:/Users/smnas/dataset-test/MNIST-m=4/corrupted/' + str(i+1) + '.png'\n",
    "    try:\n",
    "        with open(filename, 'r') as file:\n",
    "            img = Image.open(filename)\n",
    "            arr = np.array(img)\n",
    "            images_test_cor_4.append(arr)\n",
    "    except OSError as e:\n",
    "        None"
   ]
  },
  {
   "cell_type": "code",
   "execution_count": 680,
   "id": "7e741762",
   "metadata": {},
   "outputs": [],
   "source": [
    "patches_test_cor = []\n",
    "\n",
    "for n in range(len(images_test_cor_4)):\n",
    "    for i in range(l-m+1):\n",
    "        for j in range(w-m+1):\n",
    "            a = (images_test_cor_4[n][i:i+m,j:j+m]).flatten(order='F')\n",
    "            patches_test_cor.append(a)"
   ]
  },
  {
   "cell_type": "code",
   "execution_count": 681,
   "id": "02063f31",
   "metadata": {},
   "outputs": [],
   "source": [
    "#پیدا کردن بزرگترین کامپوننت gmm\n",
    "#best_kn\n",
    "probs = gmm_model_4.predict_proba(patches_test_cor)[:, :]\n",
    "means = probs.mean(axis=0)\n",
    "best_kn = np.argmax(means,axis=0)"
   ]
  },
  {
   "cell_type": "code",
   "execution_count": 682,
   "id": "59452721",
   "metadata": {},
   "outputs": [],
   "source": [
    "m = 4\n",
    "E_Z = gmm_model_4.covariances_[best_kn]\n",
    "mu_Z = gmm_model_4.means_[best_kn]\n",
    "E_Y_Z = best_sigma_4*best_sigma_4*np.identity(m*m)\n",
    "E_Z_Y = np.linalg.inv(np.linalg.inv(E_Z) + np.matmul(np.matmul(w_4.T, np.linalg.inv(E_Y_Z)),w_4))\n",
    "patches_test_cor_corrected = []\n",
    "for n in range(len(patches_test_cor)):\n",
    "    mu_Z_Y = np.matmul(E_Z_Y,(np.matmul(np.matmul(w_4.T,np.linalg.inv(E_Y_Z)),patches_test_cor[n])+ np.matmul(np.linalg.inv(E_Z),mu_Z)))\n",
    "    patches_test_cor_corrected.append(mu_Z_Y)"
   ]
  },
  {
   "cell_type": "code",
   "execution_count": 683,
   "id": "dce43781",
   "metadata": {},
   "outputs": [],
   "source": [
    "patches_matrix_test_cor_corrected = []\n",
    "\n",
    "for n in range(len(patches_test_cor_corrected)):\n",
    "    reshaped_arr = patches_test_cor_corrected[n].reshape((m, m),order='F')\n",
    "    patches_matrix_test_cor_corrected.append(reshaped_arr)"
   ]
  },
  {
   "cell_type": "code",
   "execution_count": 684,
   "id": "969ffc4e",
   "metadata": {},
   "outputs": [],
   "source": [
    "images_test_denoised_4 = []\n",
    "\n",
    "l = train_X.shape[1]\n",
    "w = train_X.shape[2]\n",
    "\n",
    "m = 4\n",
    "\n",
    "num_of_patches_per_img = (l-m+1)*(w-m+1)\n",
    "num_of_pixels = np.zeros([28,28])\n",
    "\n",
    "for n in range(len(images_test_cor_4)):\n",
    "    images_test_denoised_4.append(np.zeros([28,28]))\n",
    "    for p in range(n*num_of_patches_per_img, (n+1)*num_of_patches_per_img):\n",
    "        p_real = p % num_of_patches_per_img\n",
    "        i_real = math.floor(p_real/(w-m+1))\n",
    "        j_real = p_real %(l-m+1)\n",
    "        for i in range(m):\n",
    "            for j in range(m):\n",
    "                images_test_denoised_4[n][i_real + i][j_real + j] += patches_matrix_test_cor_corrected[p][i][j]\n",
    "                if(n==0):\n",
    "                    num_of_pixels[i_real + i][j_real + j] += 1\n",
    "    for i in range(28):\n",
    "        for j in range(28):\n",
    "            images_test_denoised_4[n][i][j] = images_test_denoised_4[n][i][j]/num_of_pixels[i][j]"
   ]
  },
  {
   "cell_type": "code",
   "execution_count": 685,
   "id": "c4c5b382",
   "metadata": {},
   "outputs": [
    {
     "data": {
      "image/png": "[encoded data removed]",
      "text/plain": [
       "<Figure size 720x720 with 10 Axes>"
      ]
     },
     "metadata": {
      "needs_background": "light"
     },
     "output_type": "display_data"
    }
   ],
   "source": [
    "fig, axs = plt.subplots(5, 2, figsize=(10, 10))\n",
    "\n",
    "for i in range(5):\n",
    "    n1 = np.random.randint(len(images_test_cor_4))\n",
    "    axs[i, 0].imshow(images_test_cor_4[n1], cmap='gray')\n",
    "    axs[i, 0].set_title('noisy image')\n",
    "    axs[i, 0].axis('off')\n",
    "    axs[i, 1].imshow(images_test_denoised_4[n1], cmap='gray')\n",
    "    axs[i, 1].set_title('denoised image')\n",
    "    axs[i, 1].axis('off')\n",
    "plt.tight_layout()\n",
    "plt.show()"
   ]
  },
  {
   "cell_type": "markdown",
   "id": "9308fea8",
   "metadata": {},
   "source": [
    "# M=12"
   ]
  },
  {
   "cell_type": "code",
   "execution_count": 686,
   "id": "66ae9c7a",
   "metadata": {},
   "outputs": [],
   "source": [
    "l = train_X.shape[1]\n",
    "w = train_X.shape[2]\n",
    "\n",
    "m = 12\n",
    "\n",
    "\n",
    "patches = []\n",
    "\n",
    "for n in range(100):\n",
    "    for i in range(l-m+1):\n",
    "        for j in range(w-m+1):\n",
    "            a = (train_X[n][i:i+m,j:j+m]).flatten(order='F')\n",
    "            patches.append(a)"
   ]
  },
  {
   "cell_type": "code",
   "execution_count": 687,
   "id": "4a86343d",
   "metadata": {},
   "outputs": [],
   "source": [
    "images_val = []\n",
    "for i in range(300):\n",
    "    filename = 'C:/Users/smnas/Dataset/Dataset/MNIST-m=12/MNIST/original/' + str(i+1) + '.png'\n",
    "    try:\n",
    "        with open(filename, 'r') as file:\n",
    "            img = Image.open(filename)\n",
    "            arr = np.array(img)\n",
    "            images_val.append(arr)\n",
    "    except OSError as e:\n",
    "        None"
   ]
  },
  {
   "cell_type": "code",
   "execution_count": 688,
   "id": "f725674b",
   "metadata": {},
   "outputs": [],
   "source": [
    "patches_val = []\n",
    "\n",
    "for n in range(len(images_val)):\n",
    "    for i in range(l-m+1):\n",
    "        for j in range(w-m+1):\n",
    "            a = (images_val[n][i:i+m,j:j+m]).flatten(order='F')\n",
    "            patches_val.append(a)"
   ]
  },
  {
   "cell_type": "code",
   "execution_count": 424,
   "id": "3daea779",
   "metadata": {},
   "outputs": [
    {
     "name": "stdout",
     "output_type": "stream",
     "text": [
      "-331.2610590926072\n"
     ]
    }
   ],
   "source": [
    "gmm_model_12 = GaussianMixture(n_components=50, random_state=0).fit(patches)\n",
    "acc = gmm_model_12.score(patches_val)\n",
    "print(acc)"
   ]
  },
  {
   "cell_type": "code",
   "execution_count": 390,
   "id": "d8d980db",
   "metadata": {},
   "outputs": [
    {
     "name": "stdout",
     "output_type": "stream",
     "text": [
      "-373.0608219352853\n"
     ]
    }
   ],
   "source": [
    "gmm_model_12 = GaussianMixture(n_components=10, random_state=0).fit(patches)\n",
    "acc = gmm_model_12.score(patches_val)\n",
    "print(acc)"
   ]
  },
  {
   "cell_type": "code",
   "execution_count": 391,
   "id": "3eb0fa4e",
   "metadata": {},
   "outputs": [
    {
     "name": "stdout",
     "output_type": "stream",
     "text": [
      "-454.55852716898323\n"
     ]
    }
   ],
   "source": [
    "gmm_model_12 = GaussianMixture(n_components=5, random_state=0).fit(patches)\n",
    "acc = gmm_model_12.score(patches_val)\n",
    "print(acc)"
   ]
  },
  {
   "cell_type": "code",
   "execution_count": 392,
   "id": "0f147a70",
   "metadata": {},
   "outputs": [
    {
     "name": "stdout",
     "output_type": "stream",
     "text": [
      "-368.20501556222945\n"
     ]
    }
   ],
   "source": [
    "gmm_model_12 = GaussianMixture(n_components=100, random_state=0).fit(patches)\n",
    "acc = gmm_model_12.score(patches_val)\n",
    "print(acc)"
   ]
  },
  {
   "cell_type": "code",
   "execution_count": 393,
   "id": "a55cba29",
   "metadata": {},
   "outputs": [
    {
     "name": "stdout",
     "output_type": "stream",
     "text": [
      "-304.97642910771845\n",
      "-274.6006598024745\n",
      "-306.03803491679895\n",
      "30\n"
     ]
    }
   ],
   "source": [
    "k = np.arange(20, 50, 10)\n",
    "m = k.shape[0]\n",
    "accuracy = []\n",
    "for i in range(m):\n",
    "    gmm_model_12 = GaussianMixture(n_components=k[i], random_state=0).fit(patches)\n",
    "    acc = gmm_model_12.score(patches_val)\n",
    "    print(acc)\n",
    "    accuracy.append(acc)\n",
    "\n",
    "mx = max(accuracy)\n",
    "l=0\n",
    "for i in range(m):\n",
    "    if accuracy[i]==mx:\n",
    "        if l==0:\n",
    "            kf = k[i]\n",
    "            l=1\n",
    "print(kf)"
   ]
  },
  {
   "cell_type": "code",
   "execution_count": 394,
   "id": "316fe573",
   "metadata": {},
   "outputs": [
    {
     "name": "stdout",
     "output_type": "stream",
     "text": [
      "-318.20451798923114\n",
      "-358.33000772672926\n",
      "-341.92122745417834\n",
      "-380.50283400864424\n",
      "60\n"
     ]
    }
   ],
   "source": [
    "k = np.arange(60, 100, 10)\n",
    "m = k.shape[0]\n",
    "accuracy = []\n",
    "for i in range(m):\n",
    "    gmm_model_12 = GaussianMixture(n_components=k[i], random_state=0).fit(patches)\n",
    "    acc = gmm_model_12.score(patches_val)\n",
    "    print(acc)\n",
    "    accuracy.append(acc)\n",
    "\n",
    "mx = max(accuracy)\n",
    "l=0\n",
    "for i in range(m):\n",
    "    if accuracy[i]==mx:\n",
    "        if l==0:\n",
    "            kf = k[i]\n",
    "            l=1\n",
    "print(kf)"
   ]
  },
  {
   "cell_type": "code",
   "execution_count": 425,
   "id": "8408db4c",
   "metadata": {},
   "outputs": [],
   "source": [
    "#بهترین مقدار کا را بر اساس اعداد قبلی 30 می شود پس یک بار مدل را با این عدد ران می کنیم\n",
    "gmm_model_12 = GaussianMixture(n_components=30, random_state=0).fit(patches)"
   ]
  },
  {
   "cell_type": "code",
   "execution_count": 396,
   "id": "5d97be20",
   "metadata": {},
   "outputs": [
    {
     "name": "stdout",
     "output_type": "stream",
     "text": [
      "(144, 144)\n"
     ]
    }
   ],
   "source": [
    "w_12 = np.load(\"C:/Users/smnas/Dataset/Dataset/MNIST-m=12/MNIST/W.npy\")\n",
    "print(w_12.shape)"
   ]
  },
  {
   "cell_type": "code",
   "execution_count": 689,
   "id": "7ca231f3",
   "metadata": {},
   "outputs": [],
   "source": [
    "images_val_cor = []\n",
    "for i in range(300):\n",
    "    filename = 'C:/Users/smnas/Dataset/Dataset/MNIST-m=12/MNIST/corrupted/' + str(i+1) + '.png'\n",
    "    try:\n",
    "        with open(filename, 'r') as file:\n",
    "            img = Image.open(filename)\n",
    "            arr = np.array(img)\n",
    "            images_val_cor.append(arr)\n",
    "    except OSError as e:\n",
    "        None"
   ]
  },
  {
   "cell_type": "code",
   "execution_count": 690,
   "id": "04f00799",
   "metadata": {},
   "outputs": [],
   "source": [
    "l = train_X.shape[1]\n",
    "w = train_X.shape[2]\n",
    "\n",
    "m = 12\n",
    "\n",
    "patches_val_cor = []\n",
    "\n",
    "for n in range(len(images_val_cor)):\n",
    "    for i in range(l-m+1):\n",
    "        for j in range(w-m+1):\n",
    "            a = (images_val_cor[n][i:i+m,j:j+m]).flatten(order='F')\n",
    "            patches_val_cor.append(a)"
   ]
  },
  {
   "cell_type": "code",
   "execution_count": 428,
   "id": "16366c63",
   "metadata": {},
   "outputs": [
    {
     "name": "stdout",
     "output_type": "stream",
     "text": [
      "5\n"
     ]
    }
   ],
   "source": [
    "best_sigma_12 = None\n",
    "min_error = np.inf\n",
    "sigmas = [5, 10, 20, 30, 50]\n",
    "\n",
    "for sigma in sigmas:\n",
    "    cross_val = []\n",
    "    for i in range(len(patches_val)):\n",
    "        P_patch = np.matmul(w_12, patches_val[i]) + sigma * np.random.randn(*patches_val[i].shape)\n",
    "        error = mean_squared_error(patches_val_cor[i], P_patch)\n",
    "        cross_val.append(error)\n",
    "    avg_cross_val = np.mean(cross_val)\n",
    "    if avg_cross_val < min_error:\n",
    "        min_error = avg_cross_val\n",
    "        best_sigma_12 = sigma\n",
    "\n",
    "print(best_sigma_12)"
   ]
  },
  {
   "cell_type": "code",
   "execution_count": 691,
   "id": "af6348f5",
   "metadata": {},
   "outputs": [],
   "source": [
    "#اما بر اساس نتایجی که از عکس ها می گیریم، اگر یک بار با بست سیگما 5 و یک بار هم با بست سیگما 50 کد را اجرا کنیم، مقدار 50 نتیجه بهتری می دهد\n",
    "#پس ما مقدار بست سیگما را 50 می گذاریم(در نتایج صرفا با مقدار 50 ران شده است. اما با مقدار 5 هم قبل از آن تست شده و نتیجه حاصله بدتر بوده است)\n",
    "best_sigma_12 = 50"
   ]
  },
  {
   "cell_type": "code",
   "execution_count": 692,
   "id": "fcbf75ba",
   "metadata": {},
   "outputs": [],
   "source": [
    "images_test_cor_12 = []\n",
    "for i in range(300):\n",
    "    filename = 'C:/Users/smnas/dataset-test/MNIST-m=12/corrupted/' + str(i+1) + '.png'\n",
    "    try:\n",
    "        with open(filename, 'r') as file:\n",
    "            img = Image.open(filename)\n",
    "            arr = np.array(img)\n",
    "            images_test_cor_12.append(arr)\n",
    "    except OSError as e:\n",
    "        None"
   ]
  },
  {
   "cell_type": "code",
   "execution_count": 693,
   "id": "60157774",
   "metadata": {},
   "outputs": [],
   "source": [
    "patches_test_cor = []\n",
    "\n",
    "for n in range(len(images_test_cor_12)):\n",
    "    for i in range(l-m+1):\n",
    "        for j in range(w-m+1):\n",
    "            a = (images_test_cor_12[n][i:i+m,j:j+m]).flatten(order='F')\n",
    "            patches_test_cor.append(a)"
   ]
  },
  {
   "cell_type": "code",
   "execution_count": 694,
   "id": "54804fee",
   "metadata": {},
   "outputs": [],
   "source": [
    "#پیدا کردن بزرگترین کامپوننت gmm\n",
    "#best_kn\n",
    "probs = gmm_model_12.predict_proba(patches_test_cor)[:, :]\n",
    "means = probs.mean(axis=0)\n",
    "best_kn = np.argmax(means,axis=0)"
   ]
  },
  {
   "cell_type": "code",
   "execution_count": 695,
   "id": "b69ba6c2",
   "metadata": {},
   "outputs": [],
   "source": [
    "m = 12\n",
    "E_Z = gmm_model_12.covariances_[best_kn]\n",
    "mu_Z = gmm_model_12.means_[best_kn]\n",
    "E_Y_Z = best_sigma_12*best_sigma_12*np.identity(m*m)\n",
    "E_Z_Y = np.linalg.inv(np.linalg.inv(E_Z) + np.matmul(np.matmul(w_12.T, np.linalg.inv(E_Y_Z)),w_12))\n",
    "patches_test_cor_corrected = []\n",
    "for n in range(len(patches_test_cor)):\n",
    "    mu_Z_Y = np.matmul(E_Z_Y,(np.matmul(np.matmul(w_12.T,np.linalg.inv(E_Y_Z)),patches_test_cor[n])+ np.matmul(np.linalg.inv(E_Z),mu_Z)))\n",
    "    patches_test_cor_corrected.append(mu_Z_Y)"
   ]
  },
  {
   "cell_type": "code",
   "execution_count": 696,
   "id": "f3060939",
   "metadata": {},
   "outputs": [],
   "source": [
    "patches_matrix_test_cor_corrected = []\n",
    "\n",
    "for n in range(len(patches_test_cor_corrected)):\n",
    "    reshaped_arr = patches_test_cor_corrected[n].reshape((m, m),order='F')\n",
    "    patches_matrix_test_cor_corrected.append(reshaped_arr)"
   ]
  },
  {
   "cell_type": "code",
   "execution_count": 697,
   "id": "5f1c0d62",
   "metadata": {},
   "outputs": [],
   "source": [
    "images_test_denoised_12 = []\n",
    "\n",
    "l = train_X.shape[1]\n",
    "w = train_X.shape[2]\n",
    "\n",
    "m = 12\n",
    "\n",
    "num_of_patches_per_img = (l-m+1)*(w-m+1)\n",
    "num_of_pixels = np.zeros([28,28])\n",
    "\n",
    "for n in range(len(images_test_cor_12)):\n",
    "    images_test_denoised_12.append(np.zeros([28,28]))\n",
    "    for p in range(n*num_of_patches_per_img, (n+1)*num_of_patches_per_img):\n",
    "        p_real = p % num_of_patches_per_img\n",
    "        i_real = math.floor(p_real/(w-m+1))\n",
    "        j_real = p_real %(l-m+1)\n",
    "        for i in range(m):\n",
    "            for j in range(m):\n",
    "                images_test_denoised_12[n][i_real + i][j_real + j] += patches_matrix_test_cor_corrected[p][i][j]\n",
    "                if(n==0):\n",
    "                    num_of_pixels[i_real + i][j_real + j] += 1\n",
    "    for i in range(28):\n",
    "        for j in range(28):\n",
    "            images_test_denoised_12[n][i][j] = images_test_denoised_12[n][i][j]/num_of_pixels[i][j]"
   ]
  },
  {
   "cell_type": "code",
   "execution_count": 698,
   "id": "30eaae5a",
   "metadata": {},
   "outputs": [
    {
     "data": {
      "image/png": "[encoded data removed]",
      "text/plain": [
       "<Figure size 720x720 with 10 Axes>"
      ]
     },
     "metadata": {
      "needs_background": "light"
     },
     "output_type": "display_data"
    }
   ],
   "source": [
    "fig, axs = plt.subplots(5, 2, figsize=(10, 10))\n",
    "\n",
    "for i in range(5):\n",
    "    n1 = np.random.randint(len(images_test_cor_12))\n",
    "    axs[i, 0].imshow(images_test_cor_12[n1], cmap='gray')\n",
    "    axs[i, 0].set_title('noisy image')\n",
    "    axs[i, 0].axis('off')\n",
    "    axs[i, 1].imshow(images_test_denoised_12[n1], cmap='gray')\n",
    "    axs[i, 1].set_title('denoised image')\n",
    "    axs[i, 1].axis('off')\n",
    "plt.tight_layout()\n",
    "plt.show()"
   ]
  },
  {
   "cell_type": "markdown",
   "id": "f697cbcd",
   "metadata": {},
   "source": [
    "# M=16"
   ]
  },
  {
   "cell_type": "code",
   "execution_count": 699,
   "id": "da57215f",
   "metadata": {},
   "outputs": [],
   "source": [
    "l = train_X.shape[1]\n",
    "w = train_X.shape[2]\n",
    "\n",
    "m = 16\n",
    "\n",
    "\n",
    "patches = []\n",
    "\n",
    "for n in range(300):\n",
    "    for i in range(l-m+1):\n",
    "        for j in range(w-m+1):\n",
    "            a = (train_X[n][i:i+m,j:j+m]).flatten(order='F')\n",
    "            patches.append(a)"
   ]
  },
  {
   "cell_type": "code",
   "execution_count": 700,
   "id": "ff0e3fbf",
   "metadata": {},
   "outputs": [],
   "source": [
    "# تغییر اسم فولدر مربوطه به MNIST-m=16\n",
    "images_val = []\n",
    "for i in range(300):\n",
    "    filename = 'C:/Users/smnas/Dataset/Dataset/MNIST-m=16/MNIST/original/' + str(i+1) + '.png'\n",
    "    try:\n",
    "        with open(filename, 'r') as file:\n",
    "            img = Image.open(filename)\n",
    "            arr = np.array(img)\n",
    "            images_val.append(arr)\n",
    "    except OSError as e:\n",
    "        None"
   ]
  },
  {
   "cell_type": "code",
   "execution_count": 701,
   "id": "64b073ee",
   "metadata": {},
   "outputs": [],
   "source": [
    "patches_val = []\n",
    "\n",
    "for n in range(len(images_val)):\n",
    "    for i in range(l-m+1):\n",
    "        for j in range(w-m+1):\n",
    "            a = (images_val[n][i:i+m,j:j+m]).flatten(order='F')\n",
    "            patches_val.append(a)"
   ]
  },
  {
   "cell_type": "code",
   "execution_count": 445,
   "id": "3edd3832",
   "metadata": {},
   "outputs": [
    {
     "name": "stdout",
     "output_type": "stream",
     "text": [
      "-821.817456577939\n",
      "-696.0619427053692\n",
      "-672.3948941354398\n",
      "-643.1468799834913\n",
      "-691.7199580791981\n",
      "40\n"
     ]
    }
   ],
   "source": [
    "k = np.arange(10, 60, 10)\n",
    "m = k.shape[0]\n",
    "accuracy = []\n",
    "for i in range(m):\n",
    "    gmm_model_16 = GaussianMixture(n_components=k[i], random_state=0).fit(patches)\n",
    "    acc = gmm_model_16.score(patches_val)\n",
    "    print(acc)\n",
    "    accuracy.append(acc)\n",
    "\n",
    "mx = max(accuracy)\n",
    "l=0\n",
    "for i in range(m):\n",
    "    if accuracy[i]==mx:\n",
    "        if l==0:\n",
    "            kf = k[i]\n",
    "            l=1\n",
    "print(kf)"
   ]
  },
  {
   "cell_type": "code",
   "execution_count": 446,
   "id": "466d13ae",
   "metadata": {},
   "outputs": [],
   "source": [
    "#بهترین مقدار کا را بر اساس اعداد قبلی 40 می شود پس یک بار مدل را با این عدد ران می کنیم\n",
    "gmm_model_16 = GaussianMixture(n_components=40, random_state=0).fit(patches)"
   ]
  },
  {
   "cell_type": "code",
   "execution_count": 447,
   "id": "cb24280d",
   "metadata": {},
   "outputs": [
    {
     "name": "stdout",
     "output_type": "stream",
     "text": [
      "(256, 256)\n"
     ]
    }
   ],
   "source": [
    "w_16 = np.load(\"C:/Users/smnas/Dataset/Dataset/MNIST-m=16/MNIST/W.npy\")\n",
    "print(w_16.shape)"
   ]
  },
  {
   "cell_type": "code",
   "execution_count": 702,
   "id": "4da36179",
   "metadata": {},
   "outputs": [],
   "source": [
    "images_val_cor = []\n",
    "for i in range(300):\n",
    "    filename = 'C:/Users/smnas/Dataset/Dataset/MNIST-m=16/MNIST/corrupted/' + str(i+1) + '.png'\n",
    "    try:\n",
    "        with open(filename, 'r') as file:\n",
    "            img = Image.open(filename)\n",
    "            arr = np.array(img)\n",
    "            images_val_cor.append(arr)\n",
    "    except OSError as e:\n",
    "        None"
   ]
  },
  {
   "cell_type": "code",
   "execution_count": 703,
   "id": "dea85b62",
   "metadata": {},
   "outputs": [],
   "source": [
    "l = train_X.shape[1]\n",
    "w = train_X.shape[2]\n",
    "\n",
    "m = 16\n",
    "\n",
    "patches_val_cor = []\n",
    "\n",
    "for n in range(len(images_val_cor)):\n",
    "    for i in range(l-m+1):\n",
    "        for j in range(w-m+1):\n",
    "            a = (images_val_cor[n][i:i+m,j:j+m]).flatten(order='F')\n",
    "            patches_val_cor.append(a)"
   ]
  },
  {
   "cell_type": "code",
   "execution_count": 450,
   "id": "cfe65544",
   "metadata": {},
   "outputs": [
    {
     "name": "stdout",
     "output_type": "stream",
     "text": [
      "5\n"
     ]
    }
   ],
   "source": [
    "best_sigma_16 = None\n",
    "min_error = np.inf\n",
    "sigmas = [5, 10, 20, 30, 50]\n",
    "\n",
    "for sigma in sigmas:\n",
    "    cross_val = []\n",
    "    for i in range(len(patches_val)):\n",
    "        P_patch = np.matmul(w_16, patches_val[i]) + sigma * np.random.randn(*patches_val[i].shape)\n",
    "        error = mean_squared_error(patches_val_cor[i], P_patch)\n",
    "        cross_val.append(error)\n",
    "    avg_cross_val = np.mean(cross_val)\n",
    "    if avg_cross_val < min_error:\n",
    "        min_error = avg_cross_val\n",
    "        best_sigma_16 = sigma\n",
    "\n",
    "print(best_sigma_16)"
   ]
  },
  {
   "cell_type": "code",
   "execution_count": 704,
   "id": "6a051bf3",
   "metadata": {},
   "outputs": [],
   "source": [
    "#اما بر اساس نتایجی که از عکس ها می گیریم، اگر یک بار با بست سیگما 5 و یک بار هم با بست سیگما 50 کد را اجرا کنیم، مقدار 50 نتیجه بهتری می دهد\n",
    "#پس ما مقدار بست سیگما را 50 می گذاریم(در نتایج صرفا با مقدار 50 ران شده است. اما با مقدار 5 هم قبل از آن تست شده و نتیجه حاصله بدتر بوده است)\n",
    "best_sigma_16 = 50"
   ]
  },
  {
   "cell_type": "code",
   "execution_count": 705,
   "id": "6115a488",
   "metadata": {},
   "outputs": [],
   "source": [
    "images_test_cor_16 = []\n",
    "for i in range(300):\n",
    "    filename = 'C:/Users/smnas/dataset-test/MNIST-m=16/corrupted/' + str(i+1) + '.png'\n",
    "    try:\n",
    "        with open(filename, 'r') as file:\n",
    "            img = Image.open(filename)\n",
    "            arr = np.array(img)\n",
    "            images_test_cor_16.append(arr)\n",
    "    except OSError as e:\n",
    "        None"
   ]
  },
  {
   "cell_type": "code",
   "execution_count": 706,
   "id": "fcd4379b",
   "metadata": {},
   "outputs": [],
   "source": [
    "patches_test_cor = []\n",
    "\n",
    "for n in range(len(images_test_cor_16)):\n",
    "    for i in range(l-m+1):\n",
    "        for j in range(w-m+1):\n",
    "            a = (images_test_cor_16[n][i:i+m,j:j+m]).flatten(order='F')\n",
    "            patches_test_cor.append(a)"
   ]
  },
  {
   "cell_type": "code",
   "execution_count": 707,
   "id": "3a9e72a8",
   "metadata": {},
   "outputs": [],
   "source": [
    "#پیدا کردن بزرگترین کامپوننت gmm\n",
    "#best_kn\n",
    "probs = gmm_model_16.predict_proba(patches_test_cor)[:, :]\n",
    "means = probs.mean(axis=0)\n",
    "best_kn = np.argmax(means,axis=0)"
   ]
  },
  {
   "cell_type": "code",
   "execution_count": 708,
   "id": "3fabd6b0",
   "metadata": {},
   "outputs": [],
   "source": [
    "m = 16\n",
    "E_Z = gmm_model_16.covariances_[best_kn]\n",
    "mu_Z = gmm_model_16.means_[best_kn]\n",
    "E_Y_Z = best_sigma_16*best_sigma_16*np.identity(m*m)\n",
    "E_Z_Y = np.linalg.inv(np.linalg.inv(E_Z) + np.matmul(np.matmul(w_16.T, np.linalg.inv(E_Y_Z)),w_16))\n",
    "patches_test_cor_corrected = []\n",
    "for n in range(len(patches_test_cor)):\n",
    "    mu_Z_Y = np.matmul(E_Z_Y,(np.matmul(np.matmul(w_16.T,np.linalg.inv(E_Y_Z)),patches_test_cor[n])+ np.matmul(np.linalg.inv(E_Z),mu_Z)))\n",
    "    patches_test_cor_corrected.append(mu_Z_Y)"
   ]
  },
  {
   "cell_type": "code",
   "execution_count": 709,
   "id": "053be5e6",
   "metadata": {},
   "outputs": [],
   "source": [
    "patches_matrix_test_cor_corrected = []\n",
    "\n",
    "for n in range(len(patches_test_cor_corrected)):\n",
    "    reshaped_arr = patches_test_cor_corrected[n].reshape((m, m),order='F')\n",
    "    patches_matrix_test_cor_corrected.append(reshaped_arr)"
   ]
  },
  {
   "cell_type": "code",
   "execution_count": 710,
   "id": "022ea9cb",
   "metadata": {},
   "outputs": [],
   "source": [
    "images_test_denoised_16 = []\n",
    "\n",
    "l = train_X.shape[1]\n",
    "w = train_X.shape[2]\n",
    "\n",
    "m = 16\n",
    "\n",
    "num_of_patches_per_img = (l-m+1)*(w-m+1)\n",
    "num_of_pixels = np.zeros([28,28])\n",
    "\n",
    "for n in range(len(images_test_cor_16)):\n",
    "    images_test_denoised_16.append(np.zeros([28,28]))\n",
    "    for p in range(n*num_of_patches_per_img, (n+1)*num_of_patches_per_img):\n",
    "        p_real = p % num_of_patches_per_img\n",
    "        i_real = math.floor(p_real/(w-m+1))\n",
    "        j_real = p_real %(l-m+1)\n",
    "        for i in range(m):\n",
    "            for j in range(m):\n",
    "                images_test_denoised_16[n][i_real + i][j_real + j] += patches_matrix_test_cor_corrected[p][i][j]\n",
    "                if(n==0):\n",
    "                    num_of_pixels[i_real + i][j_real + j] += 1\n",
    "    for i in range(28):\n",
    "        for j in range(28):\n",
    "            images_test_denoised_16[n][i][j] = images_test_denoised_16[n][i][j]/num_of_pixels[i][j]"
   ]
  },
  {
   "cell_type": "code",
   "execution_count": 711,
   "id": "6226b331",
   "metadata": {},
   "outputs": [
    {
     "data": {
      "image/png": "[encoded data removed]",
      "text/plain": [
       "<Figure size 720x720 with 10 Axes>"
      ]
     },
     "metadata": {
      "needs_background": "light"
     },
     "output_type": "display_data"
    }
   ],
   "source": [
    "fig, axs = plt.subplots(5, 2, figsize=(10, 10))\n",
    "\n",
    "for i in range(5):\n",
    "    n1 = np.random.randint(len(images_test_cor_16))\n",
    "    axs[i, 0].imshow(images_test_cor_16[n1], cmap='gray')\n",
    "    axs[i, 0].set_title('noisy image')\n",
    "    axs[i, 0].axis('off')\n",
    "    axs[i, 1].imshow(images_test_denoised_16[n1], cmap='gray')\n",
    "    axs[i, 1].set_title('denoised image')\n",
    "    axs[i, 1].axis('off')\n",
    "plt.tight_layout()\n",
    "plt.show()"
   ]
  },
  {
   "cell_type": "markdown",
   "id": "0d2bd1fe",
   "metadata": {},
   "source": [
    "# M=20"
   ]
  },
  {
   "cell_type": "code",
   "execution_count": 712,
   "id": "3728062b",
   "metadata": {},
   "outputs": [],
   "source": [
    "l = train_X.shape[1]\n",
    "w = train_X.shape[2]\n",
    "\n",
    "m = 20\n",
    "\n",
    "\n",
    "patches = []\n",
    "\n",
    "for n in range(400):\n",
    "    for i in range(l-m+1):\n",
    "        for j in range(w-m+1):\n",
    "            a = (train_X[n][i:i+m,j:j+m]).flatten(order='F')\n",
    "            patches.append(a)"
   ]
  },
  {
   "cell_type": "code",
   "execution_count": 713,
   "id": "ce3620de",
   "metadata": {},
   "outputs": [],
   "source": [
    "images_val = []\n",
    "for i in range(300):\n",
    "    filename = 'C:/Users/smnas/Dataset/Dataset/MNIST-m=20/MNIST/original/' + str(i+1) + '.png'\n",
    "    try:\n",
    "        with open(filename, 'r') as file:\n",
    "            img = Image.open(filename)\n",
    "            arr = np.array(img)\n",
    "            images_val.append(arr)\n",
    "    except OSError as e:\n",
    "        None"
   ]
  },
  {
   "cell_type": "code",
   "execution_count": 714,
   "id": "688001fa",
   "metadata": {},
   "outputs": [],
   "source": [
    "patches_val = []\n",
    "\n",
    "for n in range(len(images_val)):\n",
    "    for i in range(l-m+1):\n",
    "        for j in range(w-m+1):\n",
    "            a = (images_val[n][i:i+m,j:j+m]).flatten(order='F')\n",
    "            patches_val.append(a)"
   ]
  },
  {
   "cell_type": "code",
   "execution_count": 461,
   "id": "20135b60",
   "metadata": {},
   "outputs": [
    {
     "name": "stdout",
     "output_type": "stream",
     "text": [
      "-1349.1046741408286\n",
      "-5043.763092878157\n",
      "-20056.192464393975\n"
     ]
    },
    {
     "ename": "KeyboardInterrupt",
     "evalue": "",
     "output_type": "error",
     "traceback": [
      "\u001b[1;31m---------------------------------------------------------------------------\u001b[0m",
      "\u001b[1;31mKeyboardInterrupt\u001b[0m                         Traceback (most recent call last)",
      "\u001b[1;32m~\\AppData\\Local\\Temp/ipykernel_24296/1060492357.py\u001b[0m in \u001b[0;36m<module>\u001b[1;34m\u001b[0m\n\u001b[0;32m      3\u001b[0m \u001b[0maccuracy\u001b[0m \u001b[1;33m=\u001b[0m \u001b[1;33m[\u001b[0m\u001b[1;33m]\u001b[0m\u001b[1;33m\u001b[0m\u001b[1;33m\u001b[0m\u001b[0m\n\u001b[0;32m      4\u001b[0m \u001b[1;32mfor\u001b[0m \u001b[0mi\u001b[0m \u001b[1;32min\u001b[0m \u001b[0mrange\u001b[0m\u001b[1;33m(\u001b[0m\u001b[0mm\u001b[0m\u001b[1;33m)\u001b[0m\u001b[1;33m:\u001b[0m\u001b[1;33m\u001b[0m\u001b[1;33m\u001b[0m\u001b[0m\n\u001b[1;32m----> 5\u001b[1;33m     \u001b[0mgmm_model_20\u001b[0m \u001b[1;33m=\u001b[0m \u001b[0mGaussianMixture\u001b[0m\u001b[1;33m(\u001b[0m\u001b[0mn_components\u001b[0m\u001b[1;33m=\u001b[0m\u001b[0mk\u001b[0m\u001b[1;33m[\u001b[0m\u001b[0mi\u001b[0m\u001b[1;33m]\u001b[0m\u001b[1;33m,\u001b[0m \u001b[0mrandom_state\u001b[0m\u001b[1;33m=\u001b[0m\u001b[1;36m0\u001b[0m\u001b[1;33m)\u001b[0m\u001b[1;33m.\u001b[0m\u001b[0mfit\u001b[0m\u001b[1;33m(\u001b[0m\u001b[0mpatches\u001b[0m\u001b[1;33m)\u001b[0m\u001b[1;33m\u001b[0m\u001b[1;33m\u001b[0m\u001b[0m\n\u001b[0m\u001b[0;32m      6\u001b[0m     \u001b[0macc\u001b[0m \u001b[1;33m=\u001b[0m \u001b[0mgmm_model_20\u001b[0m\u001b[1;33m.\u001b[0m\u001b[0mscore\u001b[0m\u001b[1;33m(\u001b[0m\u001b[0mpatches_val\u001b[0m\u001b[1;33m)\u001b[0m\u001b[1;33m\u001b[0m\u001b[1;33m\u001b[0m\u001b[0m\n\u001b[0;32m      7\u001b[0m     \u001b[0mprint\u001b[0m\u001b[1;33m(\u001b[0m\u001b[0macc\u001b[0m\u001b[1;33m)\u001b[0m\u001b[1;33m\u001b[0m\u001b[1;33m\u001b[0m\u001b[0m\n",
      "\u001b[1;32m~\\AppData\\Local\\Programs\\Python\\Python39\\lib\\site-packages\\sklearn\\mixture\\_base.py\u001b[0m in \u001b[0;36mfit\u001b[1;34m(self, X, y)\u001b[0m\n\u001b[0;32m    184\u001b[0m         \"\"\"\n\u001b[0;32m    185\u001b[0m         \u001b[1;31m# parameters are validated in fit_predict\u001b[0m\u001b[1;33m\u001b[0m\u001b[1;33m\u001b[0m\u001b[0m\n\u001b[1;32m--> 186\u001b[1;33m         \u001b[0mself\u001b[0m\u001b[1;33m.\u001b[0m\u001b[0mfit_predict\u001b[0m\u001b[1;33m(\u001b[0m\u001b[0mX\u001b[0m\u001b[1;33m,\u001b[0m \u001b[0my\u001b[0m\u001b[1;33m)\u001b[0m\u001b[1;33m\u001b[0m\u001b[1;33m\u001b[0m\u001b[0m\n\u001b[0m\u001b[0;32m    187\u001b[0m         \u001b[1;32mreturn\u001b[0m \u001b[0mself\u001b[0m\u001b[1;33m\u001b[0m\u001b[1;33m\u001b[0m\u001b[0m\n\u001b[0;32m    188\u001b[0m \u001b[1;33m\u001b[0m\u001b[0m\n",
      "\u001b[1;32m~\\AppData\\Local\\Programs\\Python\\Python39\\lib\\site-packages\\sklearn\\mixture\\_base.py\u001b[0m in \u001b[0;36mfit_predict\u001b[1;34m(self, X, y)\u001b[0m\n\u001b[0;32m    251\u001b[0m \u001b[1;33m\u001b[0m\u001b[0m\n\u001b[0;32m    252\u001b[0m                     \u001b[0mlog_prob_norm\u001b[0m\u001b[1;33m,\u001b[0m \u001b[0mlog_resp\u001b[0m \u001b[1;33m=\u001b[0m \u001b[0mself\u001b[0m\u001b[1;33m.\u001b[0m\u001b[0m_e_step\u001b[0m\u001b[1;33m(\u001b[0m\u001b[0mX\u001b[0m\u001b[1;33m)\u001b[0m\u001b[1;33m\u001b[0m\u001b[1;33m\u001b[0m\u001b[0m\n\u001b[1;32m--> 253\u001b[1;33m                     \u001b[0mself\u001b[0m\u001b[1;33m.\u001b[0m\u001b[0m_m_step\u001b[0m\u001b[1;33m(\u001b[0m\u001b[0mX\u001b[0m\u001b[1;33m,\u001b[0m \u001b[0mlog_resp\u001b[0m\u001b[1;33m)\u001b[0m\u001b[1;33m\u001b[0m\u001b[1;33m\u001b[0m\u001b[0m\n\u001b[0m\u001b[0;32m    254\u001b[0m                     \u001b[0mlower_bound\u001b[0m \u001b[1;33m=\u001b[0m \u001b[0mself\u001b[0m\u001b[1;33m.\u001b[0m\u001b[0m_compute_lower_bound\u001b[0m\u001b[1;33m(\u001b[0m\u001b[0mlog_resp\u001b[0m\u001b[1;33m,\u001b[0m \u001b[0mlog_prob_norm\u001b[0m\u001b[1;33m)\u001b[0m\u001b[1;33m\u001b[0m\u001b[1;33m\u001b[0m\u001b[0m\n\u001b[0;32m    255\u001b[0m \u001b[1;33m\u001b[0m\u001b[0m\n",
      "\u001b[1;32m~\\AppData\\Local\\Programs\\Python\\Python39\\lib\\site-packages\\sklearn\\mixture\\_gaussian_mixture.py\u001b[0m in \u001b[0;36m_m_step\u001b[1;34m(self, X, log_resp)\u001b[0m\n\u001b[0;32m    751\u001b[0m             \u001b[0mthe\u001b[0m \u001b[0mpoint\u001b[0m \u001b[0mof\u001b[0m \u001b[0meach\u001b[0m \u001b[0msample\u001b[0m \u001b[1;32min\u001b[0m \u001b[0mX\u001b[0m\u001b[1;33m.\u001b[0m\u001b[1;33m\u001b[0m\u001b[1;33m\u001b[0m\u001b[0m\n\u001b[0;32m    752\u001b[0m         \"\"\"\n\u001b[1;32m--> 753\u001b[1;33m         self.weights_, self.means_, self.covariances_ = _estimate_gaussian_parameters(\n\u001b[0m\u001b[0;32m    754\u001b[0m             \u001b[0mX\u001b[0m\u001b[1;33m,\u001b[0m \u001b[0mnp\u001b[0m\u001b[1;33m.\u001b[0m\u001b[0mexp\u001b[0m\u001b[1;33m(\u001b[0m\u001b[0mlog_resp\u001b[0m\u001b[1;33m)\u001b[0m\u001b[1;33m,\u001b[0m \u001b[0mself\u001b[0m\u001b[1;33m.\u001b[0m\u001b[0mreg_covar\u001b[0m\u001b[1;33m,\u001b[0m \u001b[0mself\u001b[0m\u001b[1;33m.\u001b[0m\u001b[0mcovariance_type\u001b[0m\u001b[1;33m\u001b[0m\u001b[1;33m\u001b[0m\u001b[0m\n\u001b[0;32m    755\u001b[0m         )\n",
      "\u001b[1;32m~\\AppData\\Local\\Programs\\Python\\Python39\\lib\\site-packages\\sklearn\\mixture\\_gaussian_mixture.py\u001b[0m in \u001b[0;36m_estimate_gaussian_parameters\u001b[1;34m(X, resp, reg_covar, covariance_type)\u001b[0m\n\u001b[0;32m    290\u001b[0m     \u001b[0mnk\u001b[0m \u001b[1;33m=\u001b[0m \u001b[0mresp\u001b[0m\u001b[1;33m.\u001b[0m\u001b[0msum\u001b[0m\u001b[1;33m(\u001b[0m\u001b[0maxis\u001b[0m\u001b[1;33m=\u001b[0m\u001b[1;36m0\u001b[0m\u001b[1;33m)\u001b[0m \u001b[1;33m+\u001b[0m \u001b[1;36m10\u001b[0m \u001b[1;33m*\u001b[0m \u001b[0mnp\u001b[0m\u001b[1;33m.\u001b[0m\u001b[0mfinfo\u001b[0m\u001b[1;33m(\u001b[0m\u001b[0mresp\u001b[0m\u001b[1;33m.\u001b[0m\u001b[0mdtype\u001b[0m\u001b[1;33m)\u001b[0m\u001b[1;33m.\u001b[0m\u001b[0meps\u001b[0m\u001b[1;33m\u001b[0m\u001b[1;33m\u001b[0m\u001b[0m\n\u001b[0;32m    291\u001b[0m     \u001b[0mmeans\u001b[0m \u001b[1;33m=\u001b[0m \u001b[0mnp\u001b[0m\u001b[1;33m.\u001b[0m\u001b[0mdot\u001b[0m\u001b[1;33m(\u001b[0m\u001b[0mresp\u001b[0m\u001b[1;33m.\u001b[0m\u001b[0mT\u001b[0m\u001b[1;33m,\u001b[0m \u001b[0mX\u001b[0m\u001b[1;33m)\u001b[0m \u001b[1;33m/\u001b[0m \u001b[0mnk\u001b[0m\u001b[1;33m[\u001b[0m\u001b[1;33m:\u001b[0m\u001b[1;33m,\u001b[0m \u001b[0mnp\u001b[0m\u001b[1;33m.\u001b[0m\u001b[0mnewaxis\u001b[0m\u001b[1;33m]\u001b[0m\u001b[1;33m\u001b[0m\u001b[1;33m\u001b[0m\u001b[0m\n\u001b[1;32m--> 292\u001b[1;33m     covariances = {\n\u001b[0m\u001b[0;32m    293\u001b[0m         \u001b[1;34m\"full\"\u001b[0m\u001b[1;33m:\u001b[0m \u001b[0m_estimate_gaussian_covariances_full\u001b[0m\u001b[1;33m,\u001b[0m\u001b[1;33m\u001b[0m\u001b[1;33m\u001b[0m\u001b[0m\n\u001b[0;32m    294\u001b[0m         \u001b[1;34m\"tied\"\u001b[0m\u001b[1;33m:\u001b[0m \u001b[0m_estimate_gaussian_covariances_tied\u001b[0m\u001b[1;33m,\u001b[0m\u001b[1;33m\u001b[0m\u001b[1;33m\u001b[0m\u001b[0m\n",
      "\u001b[1;32m~\\AppData\\Local\\Programs\\Python\\Python39\\lib\\site-packages\\sklearn\\mixture\\_gaussian_mixture.py\u001b[0m in \u001b[0;36m_estimate_gaussian_covariances_full\u001b[1;34m(resp, X, nk, means, reg_covar)\u001b[0m\n\u001b[0;32m    177\u001b[0m     \u001b[1;32mfor\u001b[0m \u001b[0mk\u001b[0m \u001b[1;32min\u001b[0m \u001b[0mrange\u001b[0m\u001b[1;33m(\u001b[0m\u001b[0mn_components\u001b[0m\u001b[1;33m)\u001b[0m\u001b[1;33m:\u001b[0m\u001b[1;33m\u001b[0m\u001b[1;33m\u001b[0m\u001b[0m\n\u001b[0;32m    178\u001b[0m         \u001b[0mdiff\u001b[0m \u001b[1;33m=\u001b[0m \u001b[0mX\u001b[0m \u001b[1;33m-\u001b[0m \u001b[0mmeans\u001b[0m\u001b[1;33m[\u001b[0m\u001b[0mk\u001b[0m\u001b[1;33m]\u001b[0m\u001b[1;33m\u001b[0m\u001b[1;33m\u001b[0m\u001b[0m\n\u001b[1;32m--> 179\u001b[1;33m         \u001b[0mcovariances\u001b[0m\u001b[1;33m[\u001b[0m\u001b[0mk\u001b[0m\u001b[1;33m]\u001b[0m \u001b[1;33m=\u001b[0m \u001b[0mnp\u001b[0m\u001b[1;33m.\u001b[0m\u001b[0mdot\u001b[0m\u001b[1;33m(\u001b[0m\u001b[0mresp\u001b[0m\u001b[1;33m[\u001b[0m\u001b[1;33m:\u001b[0m\u001b[1;33m,\u001b[0m \u001b[0mk\u001b[0m\u001b[1;33m]\u001b[0m \u001b[1;33m*\u001b[0m \u001b[0mdiff\u001b[0m\u001b[1;33m.\u001b[0m\u001b[0mT\u001b[0m\u001b[1;33m,\u001b[0m \u001b[0mdiff\u001b[0m\u001b[1;33m)\u001b[0m \u001b[1;33m/\u001b[0m \u001b[0mnk\u001b[0m\u001b[1;33m[\u001b[0m\u001b[0mk\u001b[0m\u001b[1;33m]\u001b[0m\u001b[1;33m\u001b[0m\u001b[1;33m\u001b[0m\u001b[0m\n\u001b[0m\u001b[0;32m    180\u001b[0m         \u001b[0mcovariances\u001b[0m\u001b[1;33m[\u001b[0m\u001b[0mk\u001b[0m\u001b[1;33m]\u001b[0m\u001b[1;33m.\u001b[0m\u001b[0mflat\u001b[0m\u001b[1;33m[\u001b[0m\u001b[1;33m:\u001b[0m\u001b[1;33m:\u001b[0m \u001b[0mn_features\u001b[0m \u001b[1;33m+\u001b[0m \u001b[1;36m1\u001b[0m\u001b[1;33m]\u001b[0m \u001b[1;33m+=\u001b[0m \u001b[0mreg_covar\u001b[0m\u001b[1;33m\u001b[0m\u001b[1;33m\u001b[0m\u001b[0m\n\u001b[0;32m    181\u001b[0m     \u001b[1;32mreturn\u001b[0m \u001b[0mcovariances\u001b[0m\u001b[1;33m\u001b[0m\u001b[1;33m\u001b[0m\u001b[0m\n",
      "\u001b[1;32m~\\AppData\\Local\\Programs\\Python\\Python39\\lib\\site-packages\\numpy\\core\\overrides.py\u001b[0m in \u001b[0;36mdot\u001b[1;34m(*args, **kwargs)\u001b[0m\n",
      "\u001b[1;31mKeyboardInterrupt\u001b[0m: "
     ]
    }
   ],
   "source": [
    "k = np.arange(10, 60, 10)\n",
    "m = k.shape[0]\n",
    "accuracy = []\n",
    "for i in range(m):\n",
    "    gmm_model_20 = GaussianMixture(n_components=k[i], random_state=0).fit(patches)\n",
    "    acc = gmm_model_20.score(patches_val)\n",
    "    print(acc)\n",
    "    accuracy.append(acc)\n",
    "\n",
    "mx = max(accuracy)\n",
    "l=0\n",
    "for i in range(m):\n",
    "    if accuracy[i]==mx:\n",
    "        if l==0:\n",
    "            kf = k[i]\n",
    "            l=1\n",
    "print(kf)\n",
    "#بیشتر از این نیاز به ران شدن نداشت چون مقدار دقت نزولی شده بود"
   ]
  },
  {
   "cell_type": "code",
   "execution_count": 462,
   "id": "23d61327",
   "metadata": {},
   "outputs": [
    {
     "name": "stdout",
     "output_type": "stream",
     "text": [
      "-1754.856201849026\n",
      "-1436.989761156548\n",
      "-1406.766117451115\n",
      "-606172.189339444\n",
      "6\n"
     ]
    }
   ],
   "source": [
    "k = np.arange(2, 10, 2)\n",
    "m = k.shape[0]\n",
    "accuracy = []\n",
    "for i in range(m):\n",
    "    gmm_model_20 = GaussianMixture(n_components=k[i], random_state=0).fit(patches)\n",
    "    acc = gmm_model_20.score(patches_val)\n",
    "    print(acc)\n",
    "    accuracy.append(acc)\n",
    "\n",
    "mx = max(accuracy)\n",
    "l=0\n",
    "for i in range(m):\n",
    "    if accuracy[i]==mx:\n",
    "        if l==0:\n",
    "            kf = k[i]\n",
    "            l=1\n",
    "print(kf)"
   ]
  },
  {
   "cell_type": "code",
   "execution_count": 463,
   "id": "69aaa6e9",
   "metadata": {},
   "outputs": [
    {
     "name": "stdout",
     "output_type": "stream",
     "text": [
      "-1335.475135877055\n",
      "-87732.43617204722\n",
      "-1319.0531748506075\n",
      "-1345.182188639612\n",
      "16\n"
     ]
    }
   ],
   "source": [
    "k = np.arange(12, 20, 2)\n",
    "m = k.shape[0]\n",
    "accuracy = []\n",
    "for i in range(m):\n",
    "    gmm_model_20 = GaussianMixture(n_components=k[i], random_state=0).fit(patches)\n",
    "    acc = gmm_model_20.score(patches_val)\n",
    "    print(acc)\n",
    "    accuracy.append(acc)\n",
    "\n",
    "mx = max(accuracy)\n",
    "l=0\n",
    "for i in range(m):\n",
    "    if accuracy[i]==mx:\n",
    "        if l==0:\n",
    "            kf = k[i]\n",
    "            l=1\n",
    "print(kf)"
   ]
  },
  {
   "cell_type": "code",
   "execution_count": 464,
   "id": "c247bb4a",
   "metadata": {},
   "outputs": [],
   "source": [
    "#بهترین مقدار کا را بر اساس اعداد قبلی 16 می شود پس یک بار مدل را با این عدد ران می کنیم\n",
    "gmm_model_20 = GaussianMixture(n_components=16, random_state=0).fit(patches)"
   ]
  },
  {
   "cell_type": "code",
   "execution_count": 465,
   "id": "a80c1eb5",
   "metadata": {},
   "outputs": [
    {
     "name": "stdout",
     "output_type": "stream",
     "text": [
      "(400, 400)\n"
     ]
    }
   ],
   "source": [
    "w_20 = np.load(\"C:/Users/smnas/Dataset/Dataset/MNIST-m=20/MNIST/W.npy\")\n",
    "print(w_20.shape)"
   ]
  },
  {
   "cell_type": "code",
   "execution_count": 715,
   "id": "807abe12",
   "metadata": {},
   "outputs": [],
   "source": [
    "images_val_cor = []\n",
    "for i in range(300):\n",
    "    filename = 'C:/Users/smnas/Dataset/Dataset/MNIST-m=20/MNIST/corrupted/' + str(i+1) + '.png'\n",
    "    try:\n",
    "        with open(filename, 'r') as file:\n",
    "            img = Image.open(filename)\n",
    "            arr = np.array(img)\n",
    "            images_val_cor.append(arr)\n",
    "    except OSError as e:\n",
    "        None"
   ]
  },
  {
   "cell_type": "code",
   "execution_count": 716,
   "id": "771a77c1",
   "metadata": {},
   "outputs": [],
   "source": [
    "l = train_X.shape[1]\n",
    "w = train_X.shape[2]\n",
    "\n",
    "m = 20\n",
    "\n",
    "patches_val_cor = []\n",
    "\n",
    "for n in range(len(images_val_cor)):\n",
    "    for i in range(l-m+1):\n",
    "        for j in range(w-m+1):\n",
    "            a = (images_val_cor[n][i:i+m,j:j+m]).flatten(order='F')\n",
    "            patches_val_cor.append(a)"
   ]
  },
  {
   "cell_type": "code",
   "execution_count": 468,
   "id": "724e4703",
   "metadata": {},
   "outputs": [
    {
     "name": "stdout",
     "output_type": "stream",
     "text": [
      "5\n"
     ]
    }
   ],
   "source": [
    "best_sigma_20 = None\n",
    "min_error = np.inf\n",
    "sigmas = [5, 10, 20, 30, 50]\n",
    "\n",
    "for sigma in sigmas:\n",
    "    cross_val = []\n",
    "    for i in range(len(patches_val)):\n",
    "        P_patch = np.matmul(w_20, patches_val[i]) + sigma * np.random.randn(*patches_val[i].shape)\n",
    "        error = mean_squared_error(patches_val_cor[i], P_patch)\n",
    "        cross_val.append(error)\n",
    "    avg_cross_val = np.mean(cross_val)\n",
    "    if avg_cross_val < min_error:\n",
    "        min_error = avg_cross_val\n",
    "        best_sigma_20 = sigma\n",
    "\n",
    "print(best_sigma_20)"
   ]
  },
  {
   "cell_type": "code",
   "execution_count": 717,
   "id": "70d8de9a",
   "metadata": {},
   "outputs": [],
   "source": [
    "#اما بر اساس نتایجی که از عکس ها می گیریم، اگر یک بار با بست سیگما 5 و یک بار هم با بست سیگما 50 کد را اجرا کنیم، مقدار 50 نتیجه بهتری می دهد\n",
    "#پس ما مقدار بست سیگما را 50 می گذاریم(در نتایج صرفا با مقدار 50 ران شده است. اما با مقدار 5 هم قبل از آن تست شده و نتیجه حاصله بدتر بوده است)\n",
    "best_sigma_20 = 50"
   ]
  },
  {
   "cell_type": "code",
   "execution_count": 718,
   "id": "1b4eee38",
   "metadata": {},
   "outputs": [],
   "source": [
    "images_test_cor_20 = []\n",
    "for i in range(300):\n",
    "    filename = 'C:/Users/smnas/dataset-test/MNIST-m=20/corrupted/' + str(i+1) + '.png'\n",
    "    try:\n",
    "        with open(filename, 'r') as file:\n",
    "            img = Image.open(filename)\n",
    "            arr = np.array(img)\n",
    "            images_test_cor_20.append(arr)\n",
    "    except OSError as e:\n",
    "        None"
   ]
  },
  {
   "cell_type": "code",
   "execution_count": 719,
   "id": "cf6fdfba",
   "metadata": {},
   "outputs": [],
   "source": [
    "patches_test_cor = []\n",
    "\n",
    "for n in range(len(images_test_cor_20)):\n",
    "    for i in range(l-m+1):\n",
    "        for j in range(w-m+1):\n",
    "            a = (images_test_cor_20[n][i:i+m,j:j+m]).flatten(order='F')\n",
    "            patches_test_cor.append(a)"
   ]
  },
  {
   "cell_type": "code",
   "execution_count": 720,
   "id": "dea20f81",
   "metadata": {},
   "outputs": [],
   "source": [
    "#پیدا کردن بزرگترین کامپوننت gmm\n",
    "#best_kn\n",
    "probs = gmm_model_20.predict_proba(patches_test_cor)[:, :]\n",
    "means = probs.mean(axis=0)\n",
    "best_kn = np.argmax(means,axis=0)"
   ]
  },
  {
   "cell_type": "code",
   "execution_count": 721,
   "id": "f9c14667",
   "metadata": {},
   "outputs": [],
   "source": [
    "m = 20\n",
    "E_Z = gmm_model_20.covariances_[best_kn]\n",
    "mu_Z = gmm_model_20.means_[best_kn]\n",
    "E_Y_Z = best_sigma_20*best_sigma_20*np.identity(m*m)\n",
    "E_Z_Y = np.linalg.inv(np.linalg.inv(E_Z) + np.matmul(np.matmul(w_20.T, np.linalg.inv(E_Y_Z)),w_20))\n",
    "patches_test_cor_corrected = []\n",
    "for n in range(len(patches_test_cor)):\n",
    "    mu_Z_Y = np.matmul(E_Z_Y,(np.matmul(np.matmul(w_20.T,np.linalg.inv(E_Y_Z)),patches_test_cor[n])+ np.matmul(np.linalg.inv(E_Z),mu_Z)))\n",
    "    patches_test_cor_corrected.append(mu_Z_Y)"
   ]
  },
  {
   "cell_type": "code",
   "execution_count": 722,
   "id": "5a3ba14f",
   "metadata": {},
   "outputs": [],
   "source": [
    "patches_matrix_test_cor_corrected = []\n",
    "\n",
    "for n in range(len(patches_test_cor_corrected)):\n",
    "    reshaped_arr = patches_test_cor_corrected[n].reshape((m, m),order='F')\n",
    "    patches_matrix_test_cor_corrected.append(reshaped_arr)"
   ]
  },
  {
   "cell_type": "code",
   "execution_count": 723,
   "id": "cf4432e6",
   "metadata": {},
   "outputs": [],
   "source": [
    "images_test_denoised_20 = []\n",
    "\n",
    "l = train_X.shape[1]\n",
    "w = train_X.shape[2]\n",
    "\n",
    "m = 20\n",
    "\n",
    "num_of_patches_per_img = (l-m+1)*(w-m+1)\n",
    "num_of_pixels = np.zeros([28,28])\n",
    "\n",
    "for n in range(len(images_test_cor_20)):\n",
    "    images_test_denoised_20.append(np.zeros([28,28]))\n",
    "    for p in range(n*num_of_patches_per_img, (n+1)*num_of_patches_per_img):\n",
    "        p_real = p % num_of_patches_per_img\n",
    "        i_real = math.floor(p_real/(w-m+1))\n",
    "        j_real = p_real %(l-m+1)\n",
    "        for i in range(m):\n",
    "            for j in range(m):\n",
    "                images_test_denoised_20[n][i_real + i][j_real + j] += patches_matrix_test_cor_corrected[p][i][j]\n",
    "                if(n==0):\n",
    "                    num_of_pixels[i_real + i][j_real + j] += 1\n",
    "    for i in range(28):\n",
    "        for j in range(28):\n",
    "            images_test_denoised_20[n][i][j] = images_test_denoised_20[n][i][j]/num_of_pixels[i][j]"
   ]
  },
  {
   "cell_type": "code",
   "execution_count": 724,
   "id": "f1e95ec2",
   "metadata": {},
   "outputs": [
    {
     "data": {
      "image/png": "[encoded data removed]",
      "text/plain": [
       "<Figure size 720x720 with 10 Axes>"
      ]
     },
     "metadata": {
      "needs_background": "light"
     },
     "output_type": "display_data"
    }
   ],
   "source": [
    "fig, axs = plt.subplots(5, 2, figsize=(10, 10))\n",
    "\n",
    "for i in range(5):\n",
    "    n1 = np.random.randint(len(images_test_cor_20))\n",
    "    axs[i, 0].imshow(images_test_cor_20[n1], cmap='gray')\n",
    "    axs[i, 0].set_title('noisy image')\n",
    "    axs[i, 0].axis('off')\n",
    "    axs[i, 1].imshow(images_test_denoised_20[n1], cmap='gray')\n",
    "    axs[i, 1].set_title('denoised image')\n",
    "    axs[i, 1].axis('off')\n",
    "plt.tight_layout()\n",
    "plt.show()"
   ]
  },
  {
   "cell_type": "markdown",
   "id": "e93fdae8",
   "metadata": {},
   "source": [
    "# M=28"
   ]
  },
  {
   "cell_type": "code",
   "execution_count": 725,
   "id": "4e3a60d3",
   "metadata": {},
   "outputs": [],
   "source": [
    "l = train_X.shape[1]\n",
    "w = train_X.shape[2]\n",
    "\n",
    "m = 28\n",
    "\n",
    "\n",
    "patches = []\n",
    "\n",
    "for n in range(1000):\n",
    "    for i in range(l-m+1):\n",
    "        for j in range(w-m+1):\n",
    "            a = (train_X[n][i:i+m,j:j+m]).flatten(order='F')\n",
    "            patches.append(a)"
   ]
  },
  {
   "cell_type": "code",
   "execution_count": 726,
   "id": "7200430c",
   "metadata": {},
   "outputs": [],
   "source": [
    "images_val = []\n",
    "for i in range(300):\n",
    "    filename = 'C:/Users/smnas/Dataset/Dataset/MNIST-m=28/MNIST/original/' + str(i+1) + '.png'\n",
    "    try:\n",
    "        with open(filename, 'r') as file:\n",
    "            img = Image.open(filename)\n",
    "            arr = np.array(img)\n",
    "            images_val.append(arr)\n",
    "    except OSError as e:\n",
    "        None"
   ]
  },
  {
   "cell_type": "code",
   "execution_count": 727,
   "id": "5c4abde6",
   "metadata": {},
   "outputs": [],
   "source": [
    "patches_val = []\n",
    "\n",
    "for n in range(len(images_val)):\n",
    "    for i in range(l-m+1):\n",
    "        for j in range(w-m+1):\n",
    "            a = (images_val[n][i:i+m,j:j+m]).flatten(order='F')\n",
    "            patches_val.append(a)"
   ]
  },
  {
   "cell_type": "code",
   "execution_count": 480,
   "id": "3ee43f56",
   "metadata": {},
   "outputs": [
    {
     "name": "stdout",
     "output_type": "stream",
     "text": [
      "-410542330.38428783\n",
      "-1278735241.1457028\n",
      "-9351928704.76024\n",
      "-55620225532.01986\n",
      "-90382150202.13159\n",
      "1\n"
     ]
    }
   ],
   "source": [
    "k = np.arange(1, 6, 1)\n",
    "m = k.shape[0]\n",
    "accuracy = []\n",
    "for i in range(m):\n",
    "    gmm_model_28 = GaussianMixture(n_components=k[i], random_state=0).fit(patches)\n",
    "    acc = gmm_model_28.score(patches_val)\n",
    "    print(acc)\n",
    "    accuracy.append(acc)\n",
    "\n",
    "mx = max(accuracy)\n",
    "l=0\n",
    "for i in range(m):\n",
    "    if accuracy[i]==mx:\n",
    "        if l==0:\n",
    "            kf = k[i]\n",
    "            l=1\n",
    "print(kf)"
   ]
  },
  {
   "cell_type": "code",
   "execution_count": 481,
   "id": "35ef1223",
   "metadata": {},
   "outputs": [],
   "source": [
    "#بهترین مقدار کا را بر اساس اعداد قبلی 1 می شود پس یک بار مدل را با این عدد ران می کنیم\n",
    "gmm_model_28 = GaussianMixture(n_components=1, random_state=0).fit(patches)"
   ]
  },
  {
   "cell_type": "code",
   "execution_count": 482,
   "id": "ec0da037",
   "metadata": {},
   "outputs": [
    {
     "name": "stdout",
     "output_type": "stream",
     "text": [
      "(784, 784)\n"
     ]
    }
   ],
   "source": [
    "w_28 = np.load(\"C:/Users/smnas/Dataset/Dataset/MNIST-m=28/MNIST/W.npy\")\n",
    "print(w_28.shape)"
   ]
  },
  {
   "cell_type": "code",
   "execution_count": 728,
   "id": "74527ef9",
   "metadata": {},
   "outputs": [],
   "source": [
    "images_val_cor = []\n",
    "for i in range(300):\n",
    "    filename = 'C:/Users/smnas/Dataset/Dataset/MNIST-m=28/MNIST/corrupted/' + str(i+1) + '.png'\n",
    "    try:\n",
    "        with open(filename, 'r') as file:\n",
    "            img = Image.open(filename)\n",
    "            arr = np.array(img)\n",
    "            images_val_cor.append(arr)\n",
    "    except OSError as e:\n",
    "        None"
   ]
  },
  {
   "cell_type": "code",
   "execution_count": 729,
   "id": "d86e6d4a",
   "metadata": {},
   "outputs": [],
   "source": [
    "l = train_X.shape[1]\n",
    "w = train_X.shape[2]\n",
    "\n",
    "m = 28\n",
    "\n",
    "patches_val_cor = []\n",
    "\n",
    "for n in range(len(images_val_cor)):\n",
    "    for i in range(l-m+1):\n",
    "        for j in range(w-m+1):\n",
    "            a = (images_val_cor[n][i:i+m,j:j+m]).flatten(order='F')\n",
    "            patches_val_cor.append(a)"
   ]
  },
  {
   "cell_type": "code",
   "execution_count": 485,
   "id": "e522bf49",
   "metadata": {},
   "outputs": [
    {
     "name": "stdout",
     "output_type": "stream",
     "text": [
      "5\n"
     ]
    }
   ],
   "source": [
    "best_sigma_28 = None\n",
    "min_error = np.inf\n",
    "sigmas = [5, 10, 20, 30, 50]\n",
    "\n",
    "for sigma in sigmas:\n",
    "    cross_val = []\n",
    "    for i in range(len(patches_val)):\n",
    "        P_patch = np.matmul(w_28, patches_val[i]) + sigma * np.random.randn(*patches_val[i].shape)\n",
    "        error = mean_squared_error(patches_val_cor[i], P_patch)\n",
    "        cross_val.append(error)\n",
    "    avg_cross_val = np.mean(cross_val)\n",
    "    if avg_cross_val < min_error:\n",
    "        min_error = avg_cross_val\n",
    "        best_sigma_28 = sigma\n",
    "\n",
    "print(best_sigma_28)"
   ]
  },
  {
   "cell_type": "code",
   "execution_count": 730,
   "id": "054c645f",
   "metadata": {},
   "outputs": [],
   "source": [
    "#اما بر اساس نتایجی که از عکس ها می گیریم، اگر یک بار با بست سیگما 5 و یک بار هم با بست سیگما 50 کد را اجرا کنیم، مقدار 50 نتیجه بهتری می دهد\n",
    "#پس ما مقدار بست سیگما را 50 می گذاریم(در نتایج صرفا با مقدار 50 ران شده است. اما با مقدار 5 هم قبل از آن تست شده و نتیجه حاصله بدتر بوده است)\n",
    "best_sigma_28 = 50"
   ]
  },
  {
   "cell_type": "code",
   "execution_count": 731,
   "id": "cb512d23",
   "metadata": {},
   "outputs": [],
   "source": [
    "images_test_cor_28 = []\n",
    "for i in range(300):\n",
    "    filename = 'C:/Users/smnas/dataset-test/MNIST-m=28/corrupted/' + str(i+1) + '.png'\n",
    "    try:\n",
    "        with open(filename, 'r') as file:\n",
    "            img = Image.open(filename)\n",
    "            arr = np.array(img)\n",
    "            images_test_cor_28.append(arr)\n",
    "    except OSError as e:\n",
    "        None"
   ]
  },
  {
   "cell_type": "code",
   "execution_count": 732,
   "id": "30ab7b8e",
   "metadata": {},
   "outputs": [],
   "source": [
    "patches_test_cor = []\n",
    "\n",
    "for n in range(len(images_test_cor_28)):\n",
    "    for i in range(l-m+1):\n",
    "        for j in range(w-m+1):\n",
    "            a = (images_test_cor_28[n][i:i+m,j:j+m]).flatten(order='F')\n",
    "            patches_test_cor.append(a)"
   ]
  },
  {
   "cell_type": "code",
   "execution_count": 733,
   "id": "d3ea1437",
   "metadata": {},
   "outputs": [],
   "source": [
    "#پیدا کردن بزرگترین کامپوننت gmm\n",
    "#best_kn\n",
    "probs = gmm_model_28.predict_proba(patches_test_cor)[:, :]\n",
    "means = probs.mean(axis=0)\n",
    "best_kn = np.argmax(means,axis=0)"
   ]
  },
  {
   "cell_type": "code",
   "execution_count": 734,
   "id": "06729c27",
   "metadata": {},
   "outputs": [],
   "source": [
    "m = 28\n",
    "E_Z = gmm_model_28.covariances_[best_kn]\n",
    "mu_Z = gmm_model_28.means_[best_kn]\n",
    "E_Y_Z = best_sigma_28*best_sigma_28*np.identity(m*m)\n",
    "E_Z_Y = np.linalg.inv(np.linalg.inv(E_Z) + np.matmul(np.matmul(w_28.T, np.linalg.inv(E_Y_Z)),w_28))\n",
    "patches_test_cor_corrected = []\n",
    "for n in range(len(patches_test_cor)):\n",
    "    mu_Z_Y = np.matmul(E_Z_Y,(np.matmul(np.matmul(w_28.T,np.linalg.inv(E_Y_Z)),patches_test_cor[n])+ np.matmul(np.linalg.inv(E_Z),mu_Z)))\n",
    "    patches_test_cor_corrected.append(mu_Z_Y)"
   ]
  },
  {
   "cell_type": "code",
   "execution_count": 735,
   "id": "96226ba4",
   "metadata": {},
   "outputs": [],
   "source": [
    "patches_matrix_test_cor_corrected = []\n",
    "\n",
    "for n in range(len(patches_test_cor_corrected)):\n",
    "    reshaped_arr = patches_test_cor_corrected[n].reshape((m, m),order='F')\n",
    "    patches_matrix_test_cor_corrected.append(reshaped_arr)"
   ]
  },
  {
   "cell_type": "code",
   "execution_count": 736,
   "id": "819dd946",
   "metadata": {},
   "outputs": [],
   "source": [
    "images_test_denoised_28 = []\n",
    "\n",
    "l = train_X.shape[1]\n",
    "w = train_X.shape[2]\n",
    "\n",
    "m = 28\n",
    "\n",
    "num_of_patches_per_img = (l-m+1)*(w-m+1)\n",
    "num_of_pixels = np.zeros([28,28])\n",
    "\n",
    "for n in range(len(images_test_cor_28)):\n",
    "    images_test_denoised_28.append(np.zeros([28,28]))\n",
    "    for p in range(n*num_of_patches_per_img, (n+1)*num_of_patches_per_img):\n",
    "        p_real = p % num_of_patches_per_img\n",
    "        i_real = math.floor(p_real/(w-m+1))\n",
    "        j_real = p_real %(l-m+1)\n",
    "        for i in range(m):\n",
    "            for j in range(m):\n",
    "                images_test_denoised_28[n][i_real + i][j_real + j] += patches_matrix_test_cor_corrected[p][i][j]\n",
    "                if(n==0):\n",
    "                    num_of_pixels[i_real + i][j_real + j] += 1\n",
    "    for i in range(28):\n",
    "        for j in range(28):\n",
    "            images_test_denoised_28[n][i][j] = images_test_denoised_28[n][i][j]/num_of_pixels[i][j]"
   ]
  },
  {
   "cell_type": "code",
   "execution_count": 737,
   "id": "c90d2df9",
   "metadata": {},
   "outputs": [
    {
     "data": {
      "image/png": "[encoded data removed]",
      "text/plain": [
       "<Figure size 720x720 with 10 Axes>"
      ]
     },
     "metadata": {
      "needs_background": "light"
     },
     "output_type": "display_data"
    }
   ],
   "source": [
    "fig, axs = plt.subplots(5, 2, figsize=(10, 10))\n",
    "\n",
    "for i in range(5):\n",
    "    n1 = np.random.randint(len(images_test_cor_28))\n",
    "    axs[i, 0].imshow(images_test_cor_28[n1], cmap='gray')\n",
    "    axs[i, 0].set_title('noisy image')\n",
    "    axs[i, 0].axis('off')\n",
    "    axs[i, 1].imshow(images_test_denoised_28[n1], cmap='gray')\n",
    "    axs[i, 1].set_title('denoised image')\n",
    "    axs[i, 1].axis('off')\n",
    "plt.tight_layout()\n",
    "plt.show()"
   ]
  },
  {
   "cell_type": "code",
   "execution_count": null,
   "id": "30bd3e0a",
   "metadata": {},
   "outputs": [],
   "source": [
    "#به طور کلی، ما به ازای هر مقدار ام، ابتدا مقدار کا بهینه را پیدا می کردیم با استفاده از تابع اسکور. سپس بهترین مقدار سیگما را پیدا می کردیم. \n",
    "#که برای این مقادیر سیگما مقدار 50 بهترین حالت بدست آمد بر اساس عکس های ایجاد شده. سپس برای همه ام ها این کار را انجام داده و نتیجه نهایی\n",
    "# را برای آنها رسم کردیم. که می توان گفت شکل های بر اساس ام برابر 8 شکل های بهتری بدست آمده اند. اما شکل های حاصل از ام های 4 و 12\n",
    "# و 16 هم شکل های مناسبی هستند. که همین فرایند ها هم اگر با تعداد اولیه بیشتری عکس انجام میشد مثلا برای فیت کردن توزیع گاوسی و یا \n",
    "# هایپر پارامتر های کا و سیگما با دقت بیشتری بر اساس ران های بیشتر تعیین می شد نتیجه حاصله میتوانست از این هم بهتر شود. در نهایت باید گفت که \n",
    "# تقریب مرتبه اولی که ما برای بدست آوردن تخمین ام ای پی استفاده کردیم تا حد بسیار خوبی جواب می دهد و برای این مسئله کار می کند."
   ]
  }
 ],
 "metadata": {
  "kernelspec": {
   "display_name": "Python 3 (ipykernel)",
   "language": "python",
   "name": "python3"
  },
  "language_info": {
   "codemirror_mode": {
    "name": "ipython",
    "version": 3
   },
   "file_extension": ".py",
   "mimetype": "text/x-python",
   "name": "python",
   "nbconvert_exporter": "python",
   "pygments_lexer": "ipython3",
   "version": "3.9.8"
  }
 },
 "nbformat": 4,
 "nbformat_minor": 5
}
